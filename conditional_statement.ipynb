{
 "cells": [
  {
   "cell_type": "code",
   "execution_count": null,
   "id": "4bafa0db-8695-47e3-90f3-a4dfe64c1983",
   "metadata": {},
   "outputs": [],
   "source": [
    "# range data type\n",
    "- it is mostly used with for loops\n",
    "syntax -(start,stop,index) - used to generate seq of number in fwd/bwd direction\n",
    "\n",
    "default\n",
    "start default value will be 0\n",
    "stop default value should be user defined\n",
    "step = 1\n",
    "start in inclusive\n",
    "stop is exclusive"
   ]
  },
  {
   "cell_type": "code",
   "execution_count": 1,
   "id": "2c235681-7431-4c46-9c92-f197cf572260",
   "metadata": {},
   "outputs": [
    {
     "name": "stdout",
     "output_type": "stream",
     "text": [
      "[0, 1, 2, 3, 4, 5, 6, 7, 8, 9, 10, 11, 12, 13, 14, 15, 16, 17, 18, 19, 20, 21, 22, 23, 24, 25, 26, 27, 28, 29, 30, 31, 32, 33, 34, 35, 36, 37, 38, 39, 40, 41, 42, 43, 44, 45, 46, 47, 48, 49, 50, 51, 52, 53, 54, 55, 56, 57, 58, 59, 60, 61, 62, 63, 64, 65, 66, 67, 68, 69, 70, 71, 72, 73, 74, 75, 76, 77, 78, 79, 80, 81, 82, 83, 84, 85, 86, 87, 88, 89, 90, 91, 92, 93, 94, 95, 96, 97, 98, 99]\n"
     ]
    }
   ],
   "source": [
    "print(list(range(0,100)))"
   ]
  },
  {
   "cell_type": "code",
   "execution_count": 2,
   "id": "816a2164-4cdc-43cb-bc29-fc82c1a883af",
   "metadata": {},
   "outputs": [
    {
     "name": "stdout",
     "output_type": "stream",
     "text": [
      "[15, 13, 11, 9, 7, 5, 3, 1]\n"
     ]
    }
   ],
   "source": [
    "print(list(range(15,0,-2)))"
   ]
  },
  {
   "cell_type": "code",
   "execution_count": 3,
   "id": "ea0c4393-5033-462b-912a-5970cb0b8bb8",
   "metadata": {},
   "outputs": [
    {
     "name": "stdout",
     "output_type": "stream",
     "text": [
      "[0, 1, 2, 3, 4, 5, 6, 7, 8, 9, 10, 11, 12, 13, 14, 15, 16]\n"
     ]
    }
   ],
   "source": [
    "print(list(range(17)))"
   ]
  },
  {
   "cell_type": "code",
   "execution_count": 4,
   "id": "43402d6c-fdb9-4a17-aa51-001b73564a2b",
   "metadata": {},
   "outputs": [
    {
     "name": "stdout",
     "output_type": "stream",
     "text": [
      "[0, 1, 2, 3, 4, 5, 6, 7, 8, 9]\n"
     ]
    }
   ],
   "source": [
    "print(list(range(10)))"
   ]
  },
  {
   "cell_type": "code",
   "execution_count": null,
   "id": "d0d53e0a-30d7-4786-b33a-0d4d46580aa9",
   "metadata": {},
   "outputs": [],
   "source": [
    "# set data type\n",
    "- collection of value\n",
    "- not a seq data type\n",
    "- indexing and slicing is not supported\n",
    "- collection of unique values\n",
    "- set is mutable \n",
    "- it cannot  a mutable data type"
   ]
  },
  {
   "cell_type": "code",
   "execution_count": 7,
   "id": "2ee8f9c3-3deb-4ae6-b295-61ad397176a6",
   "metadata": {},
   "outputs": [
    {
     "name": "stdout",
     "output_type": "stream",
     "text": [
      "{1, 2, 3, 4, 5} <class 'set'>\n"
     ]
    }
   ],
   "source": [
    "a = {1,2,3,4,5}\n",
    "print(a, type(a))"
   ]
  },
  {
   "cell_type": "code",
   "execution_count": 8,
   "id": "23360b1c-b1a5-414d-b300-f7172c8d9739",
   "metadata": {},
   "outputs": [],
   "source": [
    "a = {1,2,3,(1,2,3)}"
   ]
  },
  {
   "cell_type": "code",
   "execution_count": 10,
   "id": "2c7a88d5-40f8-400d-b708-34a4b031ae5a",
   "metadata": {},
   "outputs": [],
   "source": [
    "a.clear()"
   ]
  },
  {
   "cell_type": "code",
   "execution_count": 11,
   "id": "b1453592-1767-4cd8-a4b3-5df1246312b1",
   "metadata": {},
   "outputs": [
    {
     "data": {
      "text/plain": [
       "set()"
      ]
     },
     "execution_count": 11,
     "metadata": {},
     "output_type": "execute_result"
    }
   ],
   "source": [
    "a"
   ]
  },
  {
   "cell_type": "markdown",
   "id": "c61dc2e8-d5f3-405d-8bd5-e79d3e7864bc",
   "metadata": {},
   "source": [
    "# Conditional statements"
   ]
  },
  {
   "cell_type": "code",
   "execution_count": null,
   "id": "b3770d01-40bf-4a8a-8866-28c238d63c1b",
   "metadata": {},
   "outputs": [],
   "source": [
    "stat1\n",
    "stat2\n",
    "if cond1:\n",
    "    stat4\n",
    "    stat5\n",
    "elif cond2:\n",
    "     stat6\n",
    "     stat7\n",
    "elif cond3:\n",
    "     stat8\n",
    "     stat9\n",
    "else:\n",
    "    stat12\n",
    "    stat13\n",
    "stat14\n",
    "stat15\n",
    "if cond1 is true --> 1,2,3,4,5,14,15\n",
    "if cond2 is true and all are false :- 1,2,6,7,14,15\n",
    "if all are true --> 1,2,4,5,14,15\n",
    "if 2 is false --> 1,2,4,5,14,15\n",
    "if cond1 and cond2 is false --> 1,2,8,9,14,15\n",
    "if all are false --> 1,2,12,13,14,15"
   ]
  },
  {
   "cell_type": "code",
   "execution_count": 13,
   "id": "46e07145-fe30-47f0-9479-fe41f6dbe815",
   "metadata": {},
   "outputs": [
    {
     "name": "stdout",
     "output_type": "stream",
     "text": [
      "line 4\n",
      "line 5\n"
     ]
    }
   ],
   "source": [
    "a = 33\n",
    "b = 24\n",
    "if b<a:\n",
    "    print('line 4')\n",
    "print('line 5')"
   ]
  },
  {
   "cell_type": "code",
   "execution_count": 14,
   "id": "f2488fe3-b966-4ad1-b070-42d22cb69b9c",
   "metadata": {},
   "outputs": [
    {
     "name": "stdout",
     "output_type": "stream",
     "text": [
      "line 3\n",
      "line 6\n"
     ]
    }
   ],
   "source": [
    "a = 40\n",
    "b = 50\n",
    "c = 51\n",
    "d = 37\n",
    "e = 30\n",
    "if a>b:\n",
    "    print('line 2')\n",
    "elif e<d:\n",
    "    print('line 3')\n",
    "elif b>c:\n",
    "    print('line 4')\n",
    "else:\n",
    "    print('line 5')\n",
    "print('line 6')\n"
   ]
  },
  {
   "cell_type": "code",
   "execution_count": null,
   "id": "feb34acd-453e-4189-97d6-e9ab25333abe",
   "metadata": {},
   "outputs": [],
   "source": [
    "1.)taking user input and print it in english form"
   ]
  },
  {
   "cell_type": "code",
   "execution_count": 27,
   "id": "2a73c04a-e6b3-4fc6-96ff-2c08ab834a3a",
   "metadata": {},
   "outputs": [
    {
     "name": "stdin",
     "output_type": "stream",
     "text": [
      " 0\n"
     ]
    },
    {
     "name": "stdout",
     "output_type": "stream",
     "text": [
      "zero\n"
     ]
    }
   ],
   "source": [
    "data = eval(input())\n",
    "if data == 0:\n",
    "    print(\"zero\")\n",
    "elif data == 1:\n",
    "    print(\"one\")\n",
    "else:\n",
    "    print(\"invalid\")"
   ]
  },
  {
   "cell_type": "code",
   "execution_count": 32,
   "id": "f44d1611-e5af-42f4-8dc4-99167ddfc073",
   "metadata": {},
   "outputs": [
    {
     "name": "stdin",
     "output_type": "stream",
     "text": [
      "Enter the number1 1\n",
      "Enter the number2 2\n",
      "Enter the number3 3\n"
     ]
    },
    {
     "name": "stdout",
     "output_type": "stream",
     "text": [
      "data2 is max 3\n"
     ]
    }
   ],
   "source": [
    "#2.) Take three number from the user and print the max number .\n",
    "data = eval(input(\"Enter the number1\"))\n",
    "data1 = eval(input(\"Enter the number2\"))\n",
    "data2= eval(input(\"Enter the number3\"))\n",
    "if data>data1 and data>data2:\n",
    "    print(\"data is maximum\",data)\n",
    "elif data1>data2 and data1>data:\n",
    "    print(\"data1 is max\",data1)\n",
    "else:\n",
    "    print(\"data2 is max\",data2)"
   ]
  },
  {
   "cell_type": "code",
   "execution_count": 3,
   "id": "12fc3646-b6a3-4772-8d06-f5891aa6eb8d",
   "metadata": {},
   "outputs": [
    {
     "name": "stdin",
     "output_type": "stream",
     "text": [
      "Enter the number1 3.4\n",
      "Enter the number2 5.2\n",
      " '+'\n"
     ]
    },
    {
     "name": "stdout",
     "output_type": "stream",
     "text": [
      "8.6\n"
     ]
    }
   ],
   "source": [
    "#3.) calculator\n",
    "a = eval(input(\"Enter the number1\"))\n",
    "b = eval(input(\"Enter the number2\"))\n",
    "opt = eval(input())\n",
    "if opt == '+':\n",
    "    print(a+b)\n",
    "elif opt == '-':\n",
    "    print(a-b)\n",
    "elif opt == '*':\n",
    "    print(a*b)\n",
    "else:\n",
    "    print(a/b)\n"
   ]
  },
  {
   "cell_type": "code",
   "execution_count": 4,
   "id": "27a155f8-8374-4eda-9dfd-f31d6ba0b497",
   "metadata": {},
   "outputs": [
    {
     "name": "stdin",
     "output_type": "stream",
     "text": [
      "Enter the year  1900\n"
     ]
    },
    {
     "name": "stdout",
     "output_type": "stream",
     "text": [
      "year is not leap\n"
     ]
    }
   ],
   "source": [
    "data = eval(input(\"Enter the year \"))\n",
    "if (data%400 == 0)or (data%4 == 0 and data%100 != 0):\n",
    "    print(\"year is leap year\")\n",
    "else:\n",
    "    print(\"year is not leap\")"
   ]
  },
  {
   "cell_type": "code",
   "execution_count": 9,
   "id": "0b464af0-3b9c-4741-981e-651ed88d6cd6",
   "metadata": {},
   "outputs": [
    {
     "name": "stdin",
     "output_type": "stream",
     "text": [
      "Enter the string 'mam'\n"
     ]
    },
    {
     "name": "stdout",
     "output_type": "stream",
     "text": [
      "the string is palindrome\n"
     ]
    }
   ],
   "source": [
    "# palindrome\n",
    "data = eval(input(\"Enter the string\"))\n",
    "if (data == data[::-1]):\n",
    "    print(\"the string is palindrome\")\n",
    "else:\n",
    "    print(\"the string is not palindrome\")\n"
   ]
  }
 ],
 "metadata": {
  "kernelspec": {
   "display_name": "Python 3 (ipykernel)",
   "language": "python",
   "name": "python3"
  },
  "language_info": {
   "codemirror_mode": {
    "name": "ipython",
    "version": 3
   },
   "file_extension": ".py",
   "mimetype": "text/x-python",
   "name": "python",
   "nbconvert_exporter": "python",
   "pygments_lexer": "ipython3",
   "version": "3.12.8"
  }
 },
 "nbformat": 4,
 "nbformat_minor": 5
}
