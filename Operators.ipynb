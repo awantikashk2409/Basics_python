{
 "cells": [
  {
   "cell_type": "markdown",
   "id": "e8d48945-490d-46cd-83d7-7ebdedc3001c",
   "metadata": {},
   "source": [
    "# operators"
   ]
  },
  {
   "cell_type": "code",
   "execution_count": null,
   "id": "c759e755-4eff-4b16-b779-e99077e6a4aa",
   "metadata": {},
   "outputs": [],
   "source": [
    "# identitiy op\n",
    "this op tells if the address of the two variable is same or not \n",
    ".\n",
    "return bool"
   ]
  },
  {
   "cell_type": "code",
   "execution_count": 3,
   "id": "fef75f7a-ee89-4a9d-bf84-2d0b15dbc600",
   "metadata": {},
   "outputs": [
    {
     "name": "stdout",
     "output_type": "stream",
     "text": [
      "True\n"
     ]
    }
   ],
   "source": [
    "a = 10\n",
    "b = 100\n",
    "print(a is b)"
   ]
  },
  {
   "cell_type": "code",
   "execution_count": 3,
   "id": "52a90db0-2af6-4695-8fe6-fdd88c278857",
   "metadata": {},
   "outputs": [
    {
     "name": "stdout",
     "output_type": "stream",
     "text": [
      "140714490325720\n",
      "140714490328600\n"
     ]
    }
   ],
   "source": [
    "a = 10\n",
    "print(id(a))\n",
    "b = 100\n",
    "print(id(b))"
   ]
  },
  {
   "cell_type": "code",
   "execution_count": 6,
   "id": "4f033ba4-d62e-4e35-8602-3b0659d0314e",
   "metadata": {},
   "outputs": [
    {
     "name": "stdout",
     "output_type": "stream",
     "text": [
      "140714490325720\n",
      "140714490325720\n",
      "140714490326040\n",
      "140714490325720\n"
     ]
    }
   ],
   "source": [
    "a = 10\n",
    "b = 100\n",
    "c = 10\n",
    "print(id(a))\n",
    "print(id(c))\n",
    "\n",
    "a = 20\n",
    "print(id(a))\n",
    "print(id(c))"
   ]
  },
  {
   "cell_type": "code",
   "execution_count": null,
   "id": "e7fb84b8-584e-47b8-ac0f-48cd507e9805",
   "metadata": {},
   "outputs": [],
   "source": []
  }
 ],
 "metadata": {
  "kernelspec": {
   "display_name": "Python 3 (ipykernel)",
   "language": "python",
   "name": "python3"
  },
  "language_info": {
   "codemirror_mode": {
    "name": "ipython",
    "version": 3
   },
   "file_extension": ".py",
   "mimetype": "text/x-python",
   "name": "python",
   "nbconvert_exporter": "python",
   "pygments_lexer": "ipython3",
   "version": "3.12.8"
  }
 },
 "nbformat": 4,
 "nbformat_minor": 5
}
