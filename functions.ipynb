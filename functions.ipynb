{
 "cells": [
  {
   "cell_type": "code",
   "execution_count": 4,
   "id": "5596976b-613d-4221-9630-7ededa0e7e11",
   "metadata": {},
   "outputs": [],
   "source": [
    "# check if a number is palindrome or not using functions\n",
    "def palindrome(string):\n",
    "    if string == string[::-1]:\n",
    "        print(\"palindrome\")\n",
    "    else:\n",
    "        print(\"not a palindrome\")"
   ]
  },
  {
   "cell_type": "code",
   "execution_count": 5,
   "id": "dbec2c43-f49f-4542-a90d-b4edcd4cc46a",
   "metadata": {},
   "outputs": [
    {
     "name": "stdout",
     "output_type": "stream",
     "text": [
      "palindrome\n"
     ]
    }
   ],
   "source": [
    "palindrome('level')"
   ]
  },
  {
   "cell_type": "code",
   "execution_count": 6,
   "id": "08eb52ec-98c7-41aa-827e-f0d0d94d8ab8",
   "metadata": {},
   "outputs": [
    {
     "name": "stdout",
     "output_type": "stream",
     "text": [
      "not a palindrome\n"
     ]
    }
   ],
   "source": [
    "palindrome('dance')"
   ]
  },
  {
   "cell_type": "code",
   "execution_count": null,
   "id": "55dde068-1b81-470d-8918-14d00a881f68",
   "metadata": {},
   "outputs": [],
   "source": [
    "def arguments"
   ]
  },
  {
   "cell_type": "code",
   "execution_count": 1,
   "id": "429f9699-8e71-49d2-8f0a-de22ebb326ea",
   "metadata": {},
   "outputs": [],
   "source": [
    "def emp_data(emp_name,emp_id,emp_location,emp_sal,comp_location='banglore'):\n",
    "    print(emp_name)\n",
    "    print(emp_id)\n",
    "    print(emp_location)\n",
    "    print(emp_sal)\n",
    "    print(comp_location)"
   ]
  },
  {
   "cell_type": "code",
   "execution_count": 9,
   "id": "2da3b22a-44d2-474b-8877-4247e73996ab",
   "metadata": {},
   "outputs": [
    {
     "name": "stdout",
     "output_type": "stream",
     "text": [
      "awantika\n",
      "delhi\n",
      "15000\n",
      "banglore\n"
     ]
    }
   ],
   "source": [
    "emp_data('awantika','1234','delhi',15000)"
   ]
  },
  {
   "cell_type": "code",
   "execution_count": 11,
   "id": "737cac90-0c70-49bf-b84e-8d618f7d6a22",
   "metadata": {},
   "outputs": [
    {
     "name": "stdout",
     "output_type": "stream",
     "text": [
      "awantika\n",
      "delhi\n",
      "15000\n",
      "gurgaon\n"
     ]
    }
   ],
   "source": [
    "# to overwrite\n",
    "emp_data('awantika',1234,'delhi',15000,'gurgaon')"
   ]
  },
  {
   "cell_type": "code",
   "execution_count": 2,
   "id": "0ab69981-32e8-47eb-8b26-81d30c78f743",
   "metadata": {},
   "outputs": [
    {
     "name": "stdout",
     "output_type": "stream",
     "text": [
      "awantika\n",
      "1234\n",
      "delhi\n",
      "15000\n",
      "banglore\n"
     ]
    }
   ],
   "source": [
    "emp_data('awantika','1234','delhi',15000)"
   ]
  },
  {
   "cell_type": "code",
   "execution_count": 3,
   "id": "e0399255-e803-4870-97a5-38d18bcf4cea",
   "metadata": {},
   "outputs": [
    {
     "name": "stdout",
     "output_type": "stream",
     "text": [
      "awantika\n",
      "1234\n",
      "delhi\n",
      "15000\n",
      "gurgaon\n"
     ]
    }
   ],
   "source": [
    "emp_data('awantika',1234,'delhi',15000,'gurgaon')"
   ]
  },
  {
   "cell_type": "code",
   "execution_count": null,
   "id": "7655df94-8fdc-49d0-aba6-5cd26bdb5679",
   "metadata": {},
   "outputs": [],
   "source": [
    "# note :- default arguments should be at last."
   ]
  },
  {
   "cell_type": "code",
   "execution_count": null,
   "id": "45e84c22-1ee4-4717-a953-51965dfd2971",
   "metadata": {},
   "outputs": [],
   "source": [
    "# keyword arguments"
   ]
  },
  {
   "cell_type": "code",
   "execution_count": 6,
   "id": "3c749d53-3eb3-4e40-a900-55c7926f7d56",
   "metadata": {},
   "outputs": [],
   "source": [
    "def emp_data(emp_name,emp_id,emp_sal,emp_location='goa',comp_location='banglore'):\n",
    "    print(emp_name)\n",
    "    print(emp_id)\n",
    "    print(emp_sal)\n",
    "    print(emp_location)\n",
    "    print(comp_location)"
   ]
  },
  {
   "cell_type": "code",
   "execution_count": 8,
   "id": "e465ebec-805f-4639-8b68-8718c70f358b",
   "metadata": {},
   "outputs": [
    {
     "name": "stdout",
     "output_type": "stream",
     "text": [
      "awantika\n",
      "1234\n",
      "12000\n",
      "goa\n",
      "pune\n"
     ]
    }
   ],
   "source": [
    "emp_data('awantika',1234,12000,comp_location='pune')"
   ]
  },
  {
   "cell_type": "code",
   "execution_count": null,
   "id": "699b6992-2b27-4671-be88-797ed1ab92e1",
   "metadata": {},
   "outputs": [],
   "source": [
    "# return statement is optional in optional it will return none \n",
    "# you can return any data type\n",
    "# you can return function also"
   ]
  },
  {
   "cell_type": "code",
   "execution_count": 31,
   "id": "e17fc7dc-3488-4b22-8371-8b2a13326cb3",
   "metadata": {},
   "outputs": [],
   "source": [
    "def sum(num1,num2):\n",
    "    c = num1+num2\n",
    "    return 1, 2, 3, 4, 5"
   ]
  },
  {
   "cell_type": "code",
   "execution_count": 33,
   "id": "1e54c1b9-602b-42eb-9900-f0cf55bd4701",
   "metadata": {},
   "outputs": [
    {
     "name": "stdout",
     "output_type": "stream",
     "text": [
      "<class 'tuple'> (1, 2, 3, 4, 5)\n"
     ]
    }
   ],
   "source": [
    "data = sum(10,100)\n",
    "print(type(data),data)"
   ]
  },
  {
   "cell_type": "code",
   "execution_count": 30,
   "id": "0b15bf53-8ab2-4c5d-9ca9-72d974f47154",
   "metadata": {},
   "outputs": [
    {
     "data": {
      "text/plain": [
       "100"
      ]
     },
     "execution_count": 30,
     "metadata": {},
     "output_type": "execute_result"
    }
   ],
   "source": [
    "data - 10"
   ]
  }
 ],
 "metadata": {
  "kernelspec": {
   "display_name": "Python 3 (ipykernel)",
   "language": "python",
   "name": "python3"
  },
  "language_info": {
   "codemirror_mode": {
    "name": "ipython",
    "version": 3
   },
   "file_extension": ".py",
   "mimetype": "text/x-python",
   "name": "python",
   "nbconvert_exporter": "python",
   "pygments_lexer": "ipython3",
   "version": "3.12.8"
  }
 },
 "nbformat": 4,
 "nbformat_minor": 5
}
