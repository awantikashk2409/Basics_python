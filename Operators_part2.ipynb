{
 "cells": [
  {
   "cell_type": "markdown",
   "id": "e8d48945-490d-46cd-83d7-7ebdedc3001c",
   "metadata": {},
   "source": [
    "# operators"
   ]
  },
  {
   "cell_type": "code",
   "execution_count": null,
   "id": "c759e755-4eff-4b16-b779-e99077e6a4aa",
   "metadata": {},
   "outputs": [],
   "source": [
    "# identitiy op\n",
    "this op tells if the address of the two variable is same or not \n",
    ".\n",
    "return bool"
   ]
  },
  {
   "cell_type": "code",
   "execution_count": 3,
   "id": "fef75f7a-ee89-4a9d-bf84-2d0b15dbc600",
   "metadata": {},
   "outputs": [
    {
     "name": "stdout",
     "output_type": "stream",
     "text": [
      "True\n"
     ]
    }
   ],
   "source": [
    "a = 10\n",
    "b = 100\n",
    "print(a is b)"
   ]
  },
  {
   "cell_type": "code",
   "execution_count": 3,
   "id": "52a90db0-2af6-4695-8fe6-fdd88c278857",
   "metadata": {},
   "outputs": [
    {
     "name": "stdout",
     "output_type": "stream",
     "text": [
      "140714490325720\n",
      "140714490328600\n"
     ]
    }
   ],
   "source": [
    "a = 10\n",
    "print(id(a))\n",
    "b = 100\n",
    "print(id(b))"
   ]
  },
  {
   "cell_type": "code",
   "execution_count": 6,
   "id": "4f033ba4-d62e-4e35-8602-3b0659d0314e",
   "metadata": {},
   "outputs": [
    {
     "name": "stdout",
     "output_type": "stream",
     "text": [
      "140714490325720\n",
      "140714490325720\n",
      "140714490326040\n",
      "140714490325720\n"
     ]
    }
   ],
   "source": [
    "a = 10\n",
    "b = 100\n",
    "c = 10\n",
    "print(id(a))\n",
    "print(id(c))\n",
    "\n",
    "a = 20\n",
    "print(id(a))\n",
    "print(id(c))"
   ]
  },
  {
   "cell_type": "code",
   "execution_count": null,
   "id": "e7fb84b8-584e-47b8-ac0f-48cd507e9805",
   "metadata": {},
   "outputs": [],
   "source": [
    "# object reusability :- object reusability means that instead of creating a new object in memory every time, Python tries to reuse existing immutable objects (like small integers, strings, booleans) to save memory and improve performance.\n",
    "int = -5 to 256\n",
    "float = not valid\n",
    "string = a-z , A-Z, 0-9, _\n",
    "bool = applicable\n",
    "complex = not valid\n",
    "None = applicable"
   ]
  },
  {
   "cell_type": "code",
   "execution_count": 8,
   "id": "5c916047-d26b-4120-9744-aef9425926b6",
   "metadata": {},
   "outputs": [
    {
     "name": "stdout",
     "output_type": "stream",
     "text": [
      "True\n"
     ]
    }
   ],
   "source": [
    "a = None\n",
    "b = None\n",
    "print(a is b)"
   ]
  },
  {
   "cell_type": "code",
   "execution_count": 13,
   "id": "1760c92b-5b76-45e5-8b3b-c8d3502aac28",
   "metadata": {
    "scrolled": true
   },
   "outputs": [
    {
     "name": "stdout",
     "output_type": "stream",
     "text": [
      "True\n"
     ]
    }
   ],
   "source": [
    "a = 10\n",
    "b = 20\n",
    "print(type(a) is type(b)) # comparing int is int or not"
   ]
  },
  {
   "cell_type": "code",
   "execution_count": 10,
   "id": "2f71541d-9f32-402e-8205-141d6173186f",
   "metadata": {},
   "outputs": [
    {
     "data": {
      "text/plain": [
       "140714489153552"
      ]
     },
     "execution_count": 10,
     "metadata": {},
     "output_type": "execute_result"
    }
   ],
   "source": [
    "id(type(a))"
   ]
  },
  {
   "cell_type": "code",
   "execution_count": 12,
   "id": "9f3e1ba2-a15d-44df-a9de-7040515feea0",
   "metadata": {
    "scrolled": true
   },
   "outputs": [
    {
     "data": {
      "text/plain": [
       "140714489153552"
      ]
     },
     "execution_count": 12,
     "metadata": {},
     "output_type": "execute_result"
    }
   ],
   "source": [
    "id(type(b))"
   ]
  },
  {
   "cell_type": "code",
   "execution_count": 14,
   "id": "b4337806-9ee1-4f3b-90dc-da6693659fcd",
   "metadata": {},
   "outputs": [
    {
     "name": "stdout",
     "output_type": "stream",
     "text": [
      "2504227567760\n",
      "2504227567760\n"
     ]
    }
   ],
   "source": [
    "a,b = 1000, 1000    # this is referring to a = 1000\n",
    "                    # b = a\n",
    "print(id(a))   \n",
    "print(id(b))"
   ]
  },
  {
   "cell_type": "code",
   "execution_count": 15,
   "id": "3fc52102-69af-41d9-ba79-8e7db97c9af5",
   "metadata": {},
   "outputs": [
    {
     "name": "stdout",
     "output_type": "stream",
     "text": [
      "2504227567728\n",
      "2504227567600\n"
     ]
    }
   ],
   "source": [
    "a = 1000\n",
    "b = 1000\n",
    "print(id(a))\n",
    "print(id(b))"
   ]
  },
  {
   "cell_type": "code",
   "execution_count": 18,
   "id": "fb574173-76e7-4e29-9eaf-74b6703ae4af",
   "metadata": {},
   "outputs": [
    {
     "name": "stdout",
     "output_type": "stream",
     "text": [
      "True\n"
     ]
    }
   ],
   "source": [
    " a = 1000\n",
    " b = a\n",
    " print(a is b)"
   ]
  },
  {
   "cell_type": "code",
   "execution_count": null,
   "id": "36c0e297-62ac-41d9-af02-24ddd0dc24e2",
   "metadata": {},
   "outputs": [],
   "source": [
    "# membership\n",
    "op - in and not in\n",
    "return bool\n",
    "it is used to find if the subsequence is present in seq or not"
   ]
  },
  {
   "cell_type": "code",
   "execution_count": 21,
   "id": "8e5412bb-7dc0-4fd8-a0a0-83e69b7f5846",
   "metadata": {},
   "outputs": [
    {
     "name": "stdout",
     "output_type": "stream",
     "text": [
      "neymar\n"
     ]
    }
   ],
   "source": [
    "# ternary op.\n",
    "print('messi' if 13 < 11 else 'ronaldo' if id(10) is id(10) else 'neymar')"
   ]
  },
  {
   "cell_type": "code",
   "execution_count": 25,
   "id": "742b41d6-6420-4920-880c-3e9a246ec87b",
   "metadata": {},
   "outputs": [
    {
     "name": "stdout",
     "output_type": "stream",
     "text": [
      "False\n"
     ]
    }
   ],
   "source": [
    "print (id(10) is id(10))  # because  it is exceeding the range of 256"
   ]
  },
  {
   "cell_type": "code",
   "execution_count": 23,
   "id": "2cf3dad6-7518-4802-86c5-7913cd8caa82",
   "metadata": {},
   "outputs": [
    {
     "name": "stdout",
     "output_type": "stream",
     "text": [
      "140714490325720\n"
     ]
    }
   ],
   "source": [
    "print(id(10))"
   ]
  },
  {
   "cell_type": "code",
   "execution_count": 24,
   "id": "5116c7f6-c6bf-46cd-86a1-661638f5f77a",
   "metadata": {},
   "outputs": [
    {
     "name": "stdout",
     "output_type": "stream",
     "text": [
      "140714490325720\n"
     ]
    }
   ],
   "source": [
    "print(id(10))"
   ]
  },
  {
   "cell_type": "code",
   "execution_count": 28,
   "id": "34486c4f-0e50-4c99-b9dc-65f6a0d2f303",
   "metadata": {},
   "outputs": [
    {
     "name": "stdout",
     "output_type": "stream",
     "text": [
      "messi\n"
     ]
    }
   ],
   "source": [
    "print ('messi' if True==1 else 'ronaldo' if True and False else 'neymar')"
   ]
  },
  {
   "cell_type": "code",
   "execution_count": 30,
   "id": "7f66b683-acfd-418b-bf7c-e25dde60b938",
   "metadata": {},
   "outputs": [
    {
     "name": "stdout",
     "output_type": "stream",
     "text": [
      "neymar\n"
     ]
    }
   ],
   "source": [
    "print ('messi' if True==0 else 'ronaldo' if True and False else 'neymar')"
   ]
  },
  {
   "cell_type": "code",
   "execution_count": 31,
   "id": "71ceefc2-f545-4124-886b-548eee30265a",
   "metadata": {},
   "outputs": [
    {
     "name": "stdout",
     "output_type": "stream",
     "text": [
      "0b11110000\n"
     ]
    }
   ],
   "source": [
    "# binary representation 0-1\n",
    "a = 240\n",
    "print(bin(a))"
   ]
  },
  {
   "cell_type": "code",
   "execution_count": 32,
   "id": "02e7badd-1516-456e-8386-0b1b7ea55cca",
   "metadata": {},
   "outputs": [
    {
     "name": "stdout",
     "output_type": "stream",
     "text": [
      "0o524\n"
     ]
    }
   ],
   "source": [
    "# octal representation 0-7\n",
    "b = 340\n",
    "print(oct(b))"
   ]
  },
  {
   "cell_type": "code",
   "execution_count": 33,
   "id": "58f7401c-7007-4be7-bad1-ecfaeb87d82f",
   "metadata": {},
   "outputs": [
    {
     "name": "stdout",
     "output_type": "stream",
     "text": [
      "0xf0\n"
     ]
    }
   ],
   "source": [
    "# hexadecimal representation 0-9, a-f, hex()\n",
    "a = 240\n",
    "print(hex(a))"
   ]
  },
  {
   "cell_type": "code",
   "execution_count": null,
   "id": "5a11e4fb-1e3a-46d3-92dd-7a988269a559",
   "metadata": {},
   "outputs": [],
   "source": [
    "\n"
   ]
  }
 ],
 "metadata": {
  "kernelspec": {
   "display_name": "Python 3 (ipykernel)",
   "language": "python",
   "name": "python3"
  },
  "language_info": {
   "codemirror_mode": {
    "name": "ipython",
    "version": 3
   },
   "file_extension": ".py",
   "mimetype": "text/x-python",
   "name": "python",
   "nbconvert_exporter": "python",
   "pygments_lexer": "ipython3",
   "version": "3.12.8"
  }
 },
 "nbformat": 4,
 "nbformat_minor": 5
}
