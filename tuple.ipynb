{
 "cells": [
  {
   "cell_type": "code",
   "execution_count": 1,
   "id": "2af4ac3e-0ef5-4e3f-b0e7-51bbf05b1351",
   "metadata": {},
   "outputs": [
    {
     "name": "stdout",
     "output_type": "stream",
     "text": [
      "[6, 8, 10]\n"
     ]
    }
   ],
   "source": [
    "# statement for var in iterable if cond.\n",
    "a =[1,6,7,8,10]\n",
    "b = [i for i in a if i%2==0]  # using list comprehension\n",
    "print(b)"
   ]
  },
  {
   "cell_type": "markdown",
   "id": "a9e69f21-e303-468e-b024-87e06079fdb3",
   "metadata": {},
   "source": [
    "# Tuple"
   ]
  },
  {
   "cell_type": "code",
   "execution_count": null,
   "id": "f590b1dc-9bf1-4679-bace-d177d7aebac8",
   "metadata": {},
   "outputs": [],
   "source": [
    "Tuple :- anything which is denoted by ()optional and seperated by ,"
   ]
  },
  {
   "cell_type": "code",
   "execution_count": 3,
   "id": "1b627aa3-4d09-4eb6-8a9e-52a8c82ae7de",
   "metadata": {},
   "outputs": [
    {
     "name": "stdout",
     "output_type": "stream",
     "text": [
      "(1, 2, 3) <class 'tuple'>\n"
     ]
    }
   ],
   "source": [
    "a = (1,2,3)\n",
    "print(a , type(a))"
   ]
  },
  {
   "cell_type": "code",
   "execution_count": 4,
   "id": "8c5eb956-84d0-4f96-ba1a-d7e003a7e61a",
   "metadata": {},
   "outputs": [
    {
     "name": "stdout",
     "output_type": "stream",
     "text": [
      "(1, 2, 3) <class 'tuple'>\n"
     ]
    }
   ],
   "source": [
    "a = 1,2,3\n",
    "print(a, type(a))"
   ]
  },
  {
   "cell_type": "code",
   "execution_count": 5,
   "id": "e550703c-239d-487c-9841-8b9953f9d1a2",
   "metadata": {},
   "outputs": [
    {
     "name": "stdout",
     "output_type": "stream",
     "text": [
      "('apple', 'mango', 'banana')\n"
     ]
    }
   ],
   "source": [
    "# Creating a tuple\n",
    "#1.) we already know the input \n",
    "\n",
    "tup1 = ('apple','mango','banana')\n",
    "print(tup1)"
   ]
  },
  {
   "cell_type": "code",
   "execution_count": 2,
   "id": "64d450ab-8f1c-42b1-ba50-3cf13e5eddb2",
   "metadata": {},
   "outputs": [
    {
     "name": "stdin",
     "output_type": "stream",
     "text": [
      "enter the data 1,2,3,4\n"
     ]
    },
    {
     "name": "stdout",
     "output_type": "stream",
     "text": [
      "(1, 2, 3, 4) <class 'tuple'>\n"
     ]
    }
   ],
   "source": [
    "# 2.) Taking input \n",
    "\n",
    "data = eval(input('enter the data'))\n",
    "print(data , type(data))"
   ]
  },
  {
   "cell_type": "code",
   "execution_count": 6,
   "id": "79ac08e0-6c2c-4de8-8348-0588e86a3ab5",
   "metadata": {},
   "outputs": [
    {
     "data": {
      "text/plain": [
       "tuple"
      ]
     },
     "execution_count": 6,
     "metadata": {},
     "output_type": "execute_result"
    }
   ],
   "source": [
    "a = (6,)\n",
    "type(a)"
   ]
  },
  {
   "cell_type": "code",
   "execution_count": 7,
   "id": "9c869e4c-ea6f-4a18-a6dd-dd0e42b6ffaf",
   "metadata": {},
   "outputs": [
    {
     "data": {
      "text/plain": [
       "('a', 'w', 'a', 'n', 't', 'i', 'k', 'a')"
      ]
     },
     "execution_count": 7,
     "metadata": {},
     "output_type": "execute_result"
    }
   ],
   "source": [
    "# typecasting , tuple\n",
    "a = 'awantika'\n",
    "tuple(a)"
   ]
  },
  {
   "cell_type": "code",
   "execution_count": null,
   "id": "fc89ecef-6742-44a2-b8be-fecaee779b54",
   "metadata": {},
   "outputs": [],
   "source": [
    "# propertirs of tuple\n",
    "1. seq data type\n",
    "2. +ve and -ve indexing\n",
    "3. allows duplicate elements\n",
    "4. can contain any object\n",
    "5. basic --> indexing , slicing ,concatenation, repetition, identity and membership.\n",
    "6. immutable"
   ]
  },
  {
   "cell_type": "code",
   "execution_count": 9,
   "id": "69319deb-4a62-4c9c-9395-610c7feae159",
   "metadata": {},
   "outputs": [
    {
     "name": "stdout",
     "output_type": "stream",
     "text": [
      "(1, 1.2, 'awantika', [1, 2, 3], (2+3j), 1, 0, 0, 1, 1)\n"
     ]
    }
   ],
   "source": [
    "a = (1,1.2,'awantika',[1,2,3],2+3j,1,0,0,1,1)\n",
    "print(a)"
   ]
  },
  {
   "cell_type": "code",
   "execution_count": 10,
   "id": "0c099548-6fbb-445f-ae40-212631fdd6db",
   "metadata": {},
   "outputs": [
    {
     "data": {
      "text/plain": [
       "1"
      ]
     },
     "execution_count": 10,
     "metadata": {},
     "output_type": "execute_result"
    }
   ],
   "source": [
    "a[0]"
   ]
  },
  {
   "cell_type": "code",
   "execution_count": 11,
   "id": "6479dbc7-a868-4bd3-afa8-40289a0a4354",
   "metadata": {},
   "outputs": [
    {
     "data": {
      "text/plain": [
       "[1, 2, 3]"
      ]
     },
     "execution_count": 11,
     "metadata": {},
     "output_type": "execute_result"
    }
   ],
   "source": [
    "a[3]"
   ]
  },
  {
   "cell_type": "code",
   "execution_count": 13,
   "id": "415c315b-8e72-4d1f-bbb7-57a1ad19e786",
   "metadata": {},
   "outputs": [
    {
     "data": {
      "text/plain": [
       "()"
      ]
     },
     "execution_count": 13,
     "metadata": {},
     "output_type": "execute_result"
    }
   ],
   "source": [
    "a[0:3:-2]"
   ]
  },
  {
   "cell_type": "code",
   "execution_count": 15,
   "id": "ced70a57-3992-44af-9c4f-de61a17be3dd",
   "metadata": {},
   "outputs": [
    {
     "name": "stdout",
     "output_type": "stream",
     "text": [
      "(1, 2, 3, 4, 5, 6)\n"
     ]
    }
   ],
   "source": [
    "#concatenation\n",
    "a = (1,2,3)\n",
    "b= (4,5,6)\n",
    "print(a+b)"
   ]
  },
  {
   "cell_type": "code",
   "execution_count": 16,
   "id": "1ccf1a0b-79db-482c-9644-d8376d59184c",
   "metadata": {},
   "outputs": [
    {
     "name": "stdout",
     "output_type": "stream",
     "text": [
      "(1, 2, 3, 1, 2, 3, 1, 2, 3, 1, 2, 3, 1, 2, 3, 1, 2, 3, 1, 2, 3, 1, 2, 3, 1, 2, 3, 1, 2, 3, 1, 2, 3, 1, 2, 3, 1, 2, 3, 1, 2, 3, 1, 2, 3, 1, 2, 3, 1, 2, 3, 1, 2, 3, 1, 2, 3, 1, 2, 3)\n"
     ]
    }
   ],
   "source": [
    "# repetition\n",
    "a=(1,2,3)\n",
    "b=20\n",
    "print(a*20)"
   ]
  },
  {
   "cell_type": "code",
   "execution_count": 17,
   "id": "dc744971-e3eb-4c3a-8d7c-774f4adfc50f",
   "metadata": {},
   "outputs": [
    {
     "data": {
      "text/plain": [
       "[]"
      ]
     },
     "execution_count": 17,
     "metadata": {},
     "output_type": "execute_result"
    }
   ],
   "source": [
    "a = [1,2,3]\n",
    "a[0:2:-1]"
   ]
  },
  {
   "cell_type": "code",
   "execution_count": 18,
   "id": "1c3cbc1f-76af-4fbc-8191-227df5e908e2",
   "metadata": {},
   "outputs": [
    {
     "name": "stdout",
     "output_type": "stream",
     "text": [
      "False\n"
     ]
    }
   ],
   "source": [
    "# identity op\n",
    "a = (1,2,3,4)\n",
    "b = (5,6,7,8)\n",
    "print(a is b)"
   ]
  },
  {
   "cell_type": "code",
   "execution_count": 21,
   "id": "fc22a5fb-89c7-43d6-a59e-919b93047104",
   "metadata": {},
   "outputs": [
    {
     "name": "stdout",
     "output_type": "stream",
     "text": [
      "False\n"
     ]
    }
   ],
   "source": [
    "# memebership op \n",
    "a = (1,1.2,'awantika',[1,2,3],2+3j,1,0,0,1,1,True,None)\n",
    "print('afsan' in a)"
   ]
  },
  {
   "cell_type": "code",
   "execution_count": 22,
   "id": "093f2240-df51-4103-a845-5c258919b8b8",
   "metadata": {},
   "outputs": [
    {
     "ename": "TypeError",
     "evalue": "'tuple' object does not support item assignment",
     "output_type": "error",
     "traceback": [
      "\u001b[31m---------------------------------------------------------------------------\u001b[39m",
      "\u001b[31mTypeError\u001b[39m                                 Traceback (most recent call last)",
      "\u001b[36mCell\u001b[39m\u001b[36m \u001b[39m\u001b[32mIn[22]\u001b[39m\u001b[32m, line 3\u001b[39m\n\u001b[32m      1\u001b[39m \u001b[38;5;66;03m# immutable :- original object cannot be changed\u001b[39;00m\n\u001b[32m      2\u001b[39m a = (\u001b[32m10\u001b[39m,\u001b[32m20\u001b[39m,\u001b[32m30\u001b[39m)\n\u001b[32m----> \u001b[39m\u001b[32m3\u001b[39m \u001b[43ma\u001b[49m\u001b[43m[\u001b[49m\u001b[32;43m0\u001b[39;49m\u001b[43m]\u001b[49m = \u001b[32m100\u001b[39m\n\u001b[32m      4\u001b[39m \u001b[38;5;28mprint\u001b[39m(a)\n",
      "\u001b[31mTypeError\u001b[39m: 'tuple' object does not support item assignment"
     ]
    }
   ],
   "source": [
    "# immutable :- original object cannot be changed\n",
    "a = (10,20,30)\n",
    "a[0] = 100\n",
    "print(a)"
   ]
  },
  {
   "cell_type": "code",
   "execution_count": 23,
   "id": "43e78874-f37c-4691-9b1e-3755e178af8d",
   "metadata": {},
   "outputs": [
    {
     "name": "stdout",
     "output_type": "stream",
     "text": [
      "['__add__', '__class__', '__class_getitem__', '__contains__', '__delattr__', '__dir__', '__doc__', '__eq__', '__format__', '__ge__', '__getattribute__', '__getitem__', '__getnewargs__', '__getstate__', '__gt__', '__hash__', '__init__', '__init_subclass__', '__iter__', '__le__', '__len__', '__lt__', '__mul__', '__ne__', '__new__', '__reduce__', '__reduce_ex__', '__repr__', '__rmul__', '__setattr__', '__sizeof__', '__str__', '__subclasshook__', 'count', 'index']\n"
     ]
    }
   ],
   "source": [
    "# methods in tuple\n",
    "print(dir(tuple))"
   ]
  },
  {
   "cell_type": "code",
   "execution_count": 26,
   "id": "1435be05-5ca1-4dbf-94f4-11c961426819",
   "metadata": {},
   "outputs": [
    {
     "name": "stdout",
     "output_type": "stream",
     "text": [
      "3\n"
     ]
    }
   ],
   "source": [
    "#count method\n",
    "a = (1,2,1,2,3,4,5,4,4)\n",
    "print(a.count(4))\n"
   ]
  },
  {
   "cell_type": "code",
   "execution_count": 27,
   "id": "a0a67b1d-720e-41c4-8f1d-f0b0688c0a75",
   "metadata": {},
   "outputs": [
    {
     "name": "stdout",
     "output_type": "stream",
     "text": [
      "5\n"
     ]
    }
   ],
   "source": [
    "a = (1,2,1,2,3,4,5,4,4)\n",
    "print(a.index(4))"
   ]
  },
  {
   "cell_type": "code",
   "execution_count": 33,
   "id": "5f9bcae1-63d6-445b-9e8d-c2a9a3934c7a",
   "metadata": {},
   "outputs": [
    {
     "name": "stdout",
     "output_type": "stream",
     "text": [
      "0\n"
     ]
    }
   ],
   "source": [
    "a = (1,True,None,[1,2,3],1.2,'awantika')\n",
    "print(a.index(True))"
   ]
  },
  {
   "cell_type": "code",
   "execution_count": 45,
   "id": "1d8532d4-9100-4c4d-9279-c258a3bd07c7",
   "metadata": {},
   "outputs": [
    {
     "name": "stdout",
     "output_type": "stream",
     "text": [
      "4\n"
     ]
    }
   ],
   "source": [
    "a =( \"learnbay is a institute of data science\")\n",
    "count=0\n",
    "for i in range(len(a)):\n",
    "    if a[i]=='t':\n",
    "        count += 1\n",
    "print(count)\n"
   ]
  },
  {
   "cell_type": "code",
   "execution_count": 54,
   "id": "a5e89b3b-4124-49b2-a7cf-68d38d8e7744",
   "metadata": {},
   "outputs": [
    {
     "name": "stdout",
     "output_type": "stream",
     "text": [
      "4\n"
     ]
    }
   ],
   "source": [
    "a =( \"learnbay is a institute of data science\")\n",
    "b = 0\n",
    "count = 0\n",
    "for i in range(len(a)):\n",
    "    a = a[b:len(a)]\n",
    "    d=a.find('t')\n",
    "    b = d+1\n",
    "    if d!=-1:\n",
    "        count+=1\n",
    "    else:\n",
    "        break\n",
    "    \n",
    "    \n",
    "print(count)\n"
   ]
  },
  {
   "cell_type": "code",
   "execution_count": 61,
   "id": "522143b7-3013-46bd-8b43-8eb37c49962d",
   "metadata": {},
   "outputs": [
    {
     "name": "stdout",
     "output_type": "stream",
     "text": [
      "5\n"
     ]
    }
   ],
   "source": [
    "a = (1,2,3,4,5,4,4,4,4,6)\n",
    "# how to check second occurence of 4?\n",
    "count =0\n",
    "for i in range(len(a)):\n",
    "    if a[i]==4:\n",
    "        count+=1\n",
    "        if count ==2:\n",
    "            print(i)\n",
    "    "
   ]
  },
  {
   "cell_type": "code",
   "execution_count": 63,
   "id": "b4813109-5a73-4ba1-b30d-69398d69f0dc",
   "metadata": {},
   "outputs": [
    {
     "name": "stdout",
     "output_type": "stream",
     "text": [
      "5\n"
     ]
    }
   ],
   "source": [
    "a = (1,2,3,4,5,4,4,4,4,6)\n",
    "b = a.index(4)\n",
    "c = a.index(4,b+1)\n",
    "print(c)"
   ]
  },
  {
   "cell_type": "code",
   "execution_count": 75,
   "id": "cde5c544-145b-48fa-8abc-ae03b47ddf80",
   "metadata": {},
   "outputs": [
    {
     "name": "stdout",
     "output_type": "stream",
     "text": [
      "3\n",
      "5\n",
      "6\n",
      "7\n",
      "8\n"
     ]
    }
   ],
   "source": [
    "a = (1,2,3,4,5,4,4,4,4,6)\n",
    "index = 0\n",
    "for i in a:\n",
    "    if i == 4:\n",
    "        print(index)\n",
    "    index +=1    "
   ]
  },
  {
   "cell_type": "code",
   "execution_count": 89,
   "id": "75f64186-ac48-4d83-8468-67da7219a2fb",
   "metadata": {},
   "outputs": [],
   "source": [
    "a = (1,2,3,4,5,4,4,4,4,6)\n",
    "index = 0\n",
    "data = []\n",
    "for i in a:\n",
    "    if i == 4:\n",
    "        data.append(index)\n",
    "    index += 1"
   ]
  },
  {
   "cell_type": "code",
   "execution_count": 90,
   "id": "9c35a60c-7c1e-4406-ad65-0e1640683d94",
   "metadata": {},
   "outputs": [
    {
     "data": {
      "text/plain": [
       "5"
      ]
     },
     "execution_count": 90,
     "metadata": {},
     "output_type": "execute_result"
    }
   ],
   "source": [
    "data[1]"
   ]
  },
  {
   "cell_type": "code",
   "execution_count": 91,
   "id": "950d4dc7-6bec-401e-8ae9-01e0bad29a10",
   "metadata": {},
   "outputs": [
    {
     "name": "stdout",
     "output_type": "stream",
     "text": [
      "(1, 2, 3, 4, 5)\n"
     ]
    }
   ],
   "source": [
    "# tuple packing and unpacking\n",
    "# tuple packing --> packing or assigning value to a single variable\n",
    "a = (1,2,3,4,5)\n",
    "print(a)"
   ]
  },
  {
   "cell_type": "code",
   "execution_count": 97,
   "id": "3cc64af7-54ed-43a4-a641-23d5bd99345a",
   "metadata": {},
   "outputs": [
    {
     "name": "stdout",
     "output_type": "stream",
     "text": [
      "1 <class 'int'>\n"
     ]
    }
   ],
   "source": [
    "a = (1)\n",
    "print(a, type(a))"
   ]
  },
  {
   "cell_type": "code",
   "execution_count": 96,
   "id": "a0ceb301-a815-4095-8901-b9a4bf7f7eeb",
   "metadata": {},
   "outputs": [
    {
     "name": "stdout",
     "output_type": "stream",
     "text": [
      "(1,) <class 'tuple'>\n"
     ]
    }
   ],
   "source": [
    "a = (1,)\n",
    "print(a , type(a))"
   ]
  },
  {
   "cell_type": "code",
   "execution_count": null,
   "id": "2ac4d107-1297-4aa3-8dfc-786acd1e34aa",
   "metadata": {},
   "outputs": [],
   "source": [
    "# tuple unpacking \n",
    "--> fetching indiviual value from tuple"
   ]
  },
  {
   "cell_type": "code",
   "execution_count": 98,
   "id": "62876533-613d-44af-afd2-192b1d6e93c0",
   "metadata": {},
   "outputs": [
    {
     "ename": "ValueError",
     "evalue": "too many values to unpack (expected 5)",
     "output_type": "error",
     "traceback": [
      "\u001b[31m---------------------------------------------------------------------------\u001b[39m",
      "\u001b[31mValueError\u001b[39m                                Traceback (most recent call last)",
      "\u001b[36mCell\u001b[39m\u001b[36m \u001b[39m\u001b[32mIn[98]\u001b[39m\u001b[32m, line 1\u001b[39m\n\u001b[32m----> \u001b[39m\u001b[32m1\u001b[39m a,b,c,d,e = (\u001b[32m1\u001b[39m,\u001b[32m2\u001b[39m,\u001b[32m3\u001b[39m,\u001b[32m4\u001b[39m,\u001b[32m5\u001b[39m,\u001b[32m6\u001b[39m)\n\u001b[32m      2\u001b[39m \u001b[38;5;28mprint\u001b[39m(c)\n",
      "\u001b[31mValueError\u001b[39m: too many values to unpack (expected 5)"
     ]
    }
   ],
   "source": [
    "a,b,c,d,e = (1,2,3,4,5,6)\n",
    "print(c)"
   ]
  },
  {
   "cell_type": "code",
   "execution_count": 100,
   "id": "b2d05c57-68a6-4dea-8cec-339b3efd6cea",
   "metadata": {},
   "outputs": [
    {
     "name": "stdout",
     "output_type": "stream",
     "text": [
      "3\n"
     ]
    }
   ],
   "source": [
    "a,b,c,d,e,f= (1,2,3,4,5,6) # elements should be same on both the side LHS = RHS\n",
    "print(c)"
   ]
  },
  {
   "cell_type": "markdown",
   "id": "05651f75-1917-4905-9c64-bf6d0d4a959a",
   "metadata": {},
   "source": [
    "# dictionary\n"
   ]
  },
  {
   "cell_type": "code",
   "execution_count": null,
   "id": "e6a54413-f03d-4b43-822e-2f38468d0578",
   "metadata": {},
   "outputs": [],
   "source": [
    "in dictionary we used to create to have a key value pair"
   ]
  },
  {
   "cell_type": "code",
   "execution_count": 104,
   "id": "5e33bd34-ed46-4cfa-8298-633b9463d4ff",
   "metadata": {},
   "outputs": [
    {
     "name": "stdout",
     "output_type": "stream",
     "text": [
      "name is awantika\n",
      "name is 25\n",
      "name is 25000\n"
     ]
    }
   ],
   "source": [
    "a = {'age': 25, 'sal': 25000,'name':'awantika'}\n",
    "print(f'name is {a['name']}')\n",
    "print(f'name is {a['age']}')\n",
    "print(f'name is {a['sal']}')"
   ]
  },
  {
   "cell_type": "code",
   "execution_count": null,
   "id": "1f859a6d-d8d4-42af-acd3-72882d321aec",
   "metadata": {},
   "outputs": [],
   "source": [
    "# properties of dictionary\n",
    "1.) Its a key-value pair\n",
    "2.) A key ,value pair is call item\n",
    "3.) sep by comma\n",
    "4.) key and value are sep by :\n",
    "5.) key cannot be duplicated whereas value can be duplicated\n",
    "6.) key should not be mutable.\n",
    "7.) value can be any data type\n",
    "8.) all the items are enclosed in {} barces\n",
    "9.) dic is not a seq data type and hence there is no slicing, concatenation, indexing, repetition.\n",
    "10.) identity is applicable\n",
    "11.)membership op is applicable\n",
    "12.) mutable"
   ]
  },
  {
   "cell_type": "code",
   "execution_count": 105,
   "id": "2b6f5608-f423-4104-8ce0-70c78ec565dc",
   "metadata": {},
   "outputs": [
    {
     "name": "stdout",
     "output_type": "stream",
     "text": [
      "{'name': 'awantika', 'sal': 25000}\n"
     ]
    }
   ],
   "source": [
    "#key is not duplicated value can be duplicated whereas value can be duplicated\n",
    "a = {'name': 'afsan', 'sal': 25000,'name':'awantika'}\n",
    "print(a)"
   ]
  },
  {
   "cell_type": "code",
   "execution_count": 106,
   "id": "7a511982-b2ee-4f5b-a0bf-f880110eee36",
   "metadata": {},
   "outputs": [
    {
     "name": "stdout",
     "output_type": "stream",
     "text": [
      "{'age': 25, 'sal': 25, 'name': 'awantika'}\n"
     ]
    }
   ],
   "source": [
    "#value can be duplicated\n",
    "a = {'age': 25, 'sal': 25,'name':'awantika'}\n",
    "print(a)"
   ]
  },
  {
   "cell_type": "code",
   "execution_count": 110,
   "id": "d39de927-ed80-433d-a874-b9d10fc72eec",
   "metadata": {},
   "outputs": [
    {
     "name": "stdout",
     "output_type": "stream",
     "text": [
      "{'name': 'afsan', (1, 2, 3): 2, 0: 1}\n"
     ]
    }
   ],
   "source": [
    "# key should not be mutable\n",
    "a = {'name': 'afsan', (1,2,3):2, 0:1}\n",
    "print(a)"
   ]
  },
  {
   "cell_type": "code",
   "execution_count": 111,
   "id": "dff175c2-61eb-4425-afc0-a79894d19552",
   "metadata": {},
   "outputs": [
    {
     "name": "stdout",
     "output_type": "stream",
     "text": [
      "False\n"
     ]
    }
   ],
   "source": [
    "# identity op is applicable\n",
    "a = {'name': 'afsan', 'sal': 25000,'name':'awantika'}\n",
    "b = {'name': 'afsan', 'sal': 25000,'name':'awantika'}\n",
    "print(a is b)"
   ]
  },
  {
   "cell_type": "code",
   "execution_count": 115,
   "id": "d756c377-31bb-409f-9e88-54f99bb1a782",
   "metadata": {},
   "outputs": [
    {
     "data": {
      "text/plain": [
       "True"
      ]
     },
     "execution_count": 115,
     "metadata": {},
     "output_type": "execute_result"
    }
   ],
   "source": [
    "# member op is applicable but only key\n",
    "a = {'name': 'afsan', 'sal': 25000,'name':'awantika'}\n",
    "'sal'in a"
   ]
  }
 ],
 "metadata": {
  "kernelspec": {
   "display_name": "Python 3 (ipykernel)",
   "language": "python",
   "name": "python3"
  },
  "language_info": {
   "codemirror_mode": {
    "name": "ipython",
    "version": 3
   },
   "file_extension": ".py",
   "mimetype": "text/x-python",
   "name": "python",
   "nbconvert_exporter": "python",
   "pygments_lexer": "ipython3",
   "version": "3.12.8"
  }
 },
 "nbformat": 4,
 "nbformat_minor": 5
}
