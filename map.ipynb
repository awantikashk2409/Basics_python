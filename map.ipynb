{
 "cells": [
  {
   "cell_type": "code",
   "execution_count": 3,
   "id": "97774586-14ad-4164-aab1-c7f39fdba0e1",
   "metadata": {},
   "outputs": [],
   "source": [
    "temp_c = [8,3,4,5,6,7]\n",
    "def fah(T):\n",
    "    return (9/5)*T+32"
   ]
  },
  {
   "cell_type": "code",
   "execution_count": 4,
   "id": "4be54669-4d12-4342-91f1-f34ba588c062",
   "metadata": {},
   "outputs": [],
   "source": [
    "temp_f = []\n",
    "for i in temp_c:\n",
    "    temp_f.append(fah(i))"
   ]
  },
  {
   "cell_type": "code",
   "execution_count": 5,
   "id": "ddcdef74-0a5f-4e82-a25b-c22d3bd886ff",
   "metadata": {},
   "outputs": [
    {
     "data": {
      "text/plain": [
       "[46.4, 37.4, 39.2, 41.0, 42.8, 44.6]"
      ]
     },
     "execution_count": 5,
     "metadata": {},
     "output_type": "execute_result"
    }
   ],
   "source": [
    "temp_f"
   ]
  },
  {
   "cell_type": "code",
   "execution_count": 7,
   "id": "f476a974-b7c4-45d6-8fae-a900ef2c9933",
   "metadata": {},
   "outputs": [
    {
     "data": {
      "text/plain": [
       "[46.4, 37.4, 39.2, 41.0, 42.8, 44.6]"
      ]
     },
     "execution_count": 7,
     "metadata": {},
     "output_type": "execute_result"
    }
   ],
   "source": [
    "#using map function\n",
    "list(map(fah,[8,3,4,5,6,7]))"
   ]
  },
  {
   "cell_type": "code",
   "execution_count": 8,
   "id": "1eff2d22-d6fe-4fb5-96ad-ac6375ac0df6",
   "metadata": {},
   "outputs": [
    {
     "data": {
      "text/plain": [
       "[46.4, 37.4, 39.2, 41.0, 42.8, 44.6]"
      ]
     },
     "execution_count": 8,
     "metadata": {},
     "output_type": "execute_result"
    }
   ],
   "source": [
    "#using lambda function\n",
    "list(map(lambda T : (9/5*T+32),[8,3,4,5,6,7]))"
   ]
  },
  {
   "cell_type": "code",
   "execution_count": 9,
   "id": "be219717-31b8-45f7-952d-917960debc95",
   "metadata": {},
   "outputs": [
    {
     "data": {
      "text/plain": [
       "[18, 20, 20, 42, 56, 72]"
      ]
     },
     "execution_count": 9,
     "metadata": {},
     "output_type": "execute_result"
    }
   ],
   "source": [
    "a = [3,4,5,6,7,8]\n",
    "b = [6,5,4,7,8,9]\n",
    "list(map(lambda a,b:a*b,a,b))"
   ]
  },
  {
   "cell_type": "code",
   "execution_count": null,
   "id": "2ef16687-175e-4ed4-b61f-629acb4794e7",
   "metadata": {},
   "outputs": [],
   "source": [
    "# The map function takes two args\n",
    "1. Function  # note function will always take two args\n",
    "2. a seq iterable\n",
    "\n",
    "syntax --> map(function,iterable)"
   ]
  },
  {
   "cell_type": "code",
   "execution_count": null,
   "id": "8c47d09a-2199-46b2-9612-61f7d77a0a12",
   "metadata": {},
   "outputs": [],
   "source": [
    "reduce ()\n",
    "the reduce function takes 2 args\n",
    "1.) function\n",
    "2.)  a seq iterable\n",
    "use case \n",
    "1.) sum\n",
    "2.) max\n",
    "3.) min \n",
    "4.) avg"
   ]
  },
  {
   "cell_type": "code",
   "execution_count": 11,
   "id": "c8dbaa67-68f0-47d3-87fb-6679eb85abdd",
   "metadata": {},
   "outputs": [
    {
     "data": {
      "text/plain": [
       "50"
      ]
     },
     "execution_count": 11,
     "metadata": {},
     "output_type": "execute_result"
    }
   ],
   "source": [
    "from functools import reduce\n",
    "data = [8,50,8,6,7]\n",
    "reduce(lambda a,b:a if a>b else b,data)"
   ]
  },
  {
   "cell_type": "code",
   "execution_count": 12,
   "id": "54d7915d-bae2-40e7-a628-455c77a4a633",
   "metadata": {},
   "outputs": [
    {
     "data": {
      "text/plain": [
       "79"
      ]
     },
     "execution_count": 12,
     "metadata": {},
     "output_type": "execute_result"
    }
   ],
   "source": [
    "reduce(lambda a,b: a+b ,data)"
   ]
  },
  {
   "cell_type": "code",
   "execution_count": null,
   "id": "124f94ee-f545-4c24-895d-a8bfb4836d9e",
   "metadata": {},
   "outputs": [],
   "source": [
    "# filter --.> this filter needs to have a function as first and itrerable , the function needs to return bool value\n",
    "#teh function will be applied to  elements of iterable and only this data will be included in the final list which return the \n",
    "#true bool value"
   ]
  },
  {
   "cell_type": "code",
   "execution_count": 19,
   "id": "c5def21d-602e-4b8f-bb63-3de0274d62bc",
   "metadata": {},
   "outputs": [
    {
     "data": {
      "text/plain": [
       "[4, 10, 20, 12]"
      ]
     },
     "execution_count": 19,
     "metadata": {},
     "output_type": "execute_result"
    }
   ],
   "source": [
    "a = [4,5,10,20,12,3]\n",
    "def even(num):\n",
    "    if num%2 == 0:\n",
    "        return True\n",
    "    else:\n",
    "        return False\n",
    "list(filter(even,a))"
   ]
  },
  {
   "cell_type": "code",
   "execution_count": 20,
   "id": "69caabd4-eeb5-4b50-ba1e-91ea20dc7725",
   "metadata": {},
   "outputs": [
    {
     "data": {
      "text/plain": [
       "[4, 10, 20, 12]"
      ]
     },
     "execution_count": 20,
     "metadata": {},
     "output_type": "execute_result"
    }
   ],
   "source": [
    "#using lambda\n",
    "list(filter(lambda num : num%2==0, a))"
   ]
  },
  {
   "cell_type": "code",
   "execution_count": 22,
   "id": "b3637483-36cd-425e-bd00-3fde26e3391a",
   "metadata": {},
   "outputs": [
    {
     "data": {
      "text/plain": [
       "['disha', 'sawantika81', 'kattypery', 'sulabhtheaj']"
      ]
     },
     "execution_count": 22,
     "metadata": {},
     "output_type": "execute_result"
    }
   ],
   "source": [
    "lst = ['disha@gmail.com','sawantika81@gmail.com','kattypery@yahoo.com','sulabhtheaj@hotmail.com']\n",
    "list(map(lambda a : a.split('@')[0],lst))"
   ]
  },
  {
   "cell_type": "code",
   "execution_count": 29,
   "id": "eae55deb-cc53-4eb4-a7b7-d39d4c8622fc",
   "metadata": {},
   "outputs": [
    {
     "data": {
      "text/plain": [
       "['disha', 'sawantika81']"
      ]
     },
     "execution_count": 29,
     "metadata": {},
     "output_type": "execute_result"
    }
   ],
   "source": [
    "list(map(lambda a : a.split('@')[0],list(filter(lambda a : a.split('@')[1] == 'gmail.com',lst))))"
   ]
  }
 ],
 "metadata": {
  "kernelspec": {
   "display_name": "Python [conda env:base] *",
   "language": "python",
   "name": "conda-base-py"
  },
  "language_info": {
   "codemirror_mode": {
    "name": "ipython",
    "version": 3
   },
   "file_extension": ".py",
   "mimetype": "text/x-python",
   "name": "python",
   "nbconvert_exporter": "python",
   "pygments_lexer": "ipython3",
   "version": "3.13.5"
  }
 },
 "nbformat": 4,
 "nbformat_minor": 5
}
