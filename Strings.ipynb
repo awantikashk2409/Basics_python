{
 "cells": [
  {
   "cell_type": "code",
   "execution_count": 3,
   "id": "0b6e588f-e154-4816-8104-3599ee7b7bcd",
   "metadata": {},
   "outputs": [],
   "source": [
    "# type casting \n",
    "\n",
    "changing of one data type to another"
   ]
  },
  {
   "cell_type": "code",
   "execution_count": 6,
   "id": "74410903-9bae-431a-b6f1-3fa1d4bb43c4",
   "metadata": {},
   "outputs": [
    {
     "name": "stdout",
     "output_type": "stream",
     "text": [
      "10 10.0\n"
     ]
    },
    {
     "data": {
      "text/plain": [
       "10"
      ]
     },
     "execution_count": 6,
     "metadata": {},
     "output_type": "execute_result"
    }
   ],
   "source": [
    "# 1. way\n",
    "\n",
    "a = 10 \n",
    "print(a, float(a))\n",
    "a"
   ]
  },
  {
   "cell_type": "code",
   "execution_count": 7,
   "id": "e747fee7-fe7f-4ae6-bf98-bf7232341882",
   "metadata": {},
   "outputs": [
    {
     "name": "stdout",
     "output_type": "stream",
     "text": [
      "10.0 10.0\n"
     ]
    },
    {
     "data": {
      "text/plain": [
       "10.0"
      ]
     },
     "execution_count": 7,
     "metadata": {},
     "output_type": "execute_result"
    }
   ],
   "source": [
    "# 2 way\n",
    "\n",
    "a = float(a)\n",
    "print(a, float(a))\n",
    "a"
   ]
  },
  {
   "cell_type": "code",
   "execution_count": 8,
   "id": "d09404a1-de11-4408-a383-a6ee5a9aaa40",
   "metadata": {},
   "outputs": [
    {
     "data": {
      "text/plain": [
       "100"
      ]
     },
     "execution_count": 8,
     "metadata": {},
     "output_type": "execute_result"
    }
   ],
   "source": [
    "a = '100'   \n",
    "int(a)    # typecasting into integer"
   ]
  },
  {
   "cell_type": "code",
   "execution_count": 9,
   "id": "022a32e7-4226-42c8-82ab-e2c18094dd1f",
   "metadata": {},
   "outputs": [
    {
     "data": {
      "text/plain": [
       "True"
      ]
     },
     "execution_count": 9,
     "metadata": {},
     "output_type": "execute_result"
    }
   ],
   "source": [
    "b = 100.05\n",
    "bool(b)  # typecasting into bool value"
   ]
  },
  {
   "cell_type": "code",
   "execution_count": 15,
   "id": "09963d8a-ff2a-4d5b-81a1-c7abc4936bf3",
   "metadata": {},
   "outputs": [
    {
     "data": {
      "text/plain": [
       "'True'"
      ]
     },
     "execution_count": 15,
     "metadata": {},
     "output_type": "execute_result"
    }
   ],
   "source": [
    "a = True\n",
    "str(a)"
   ]
  },
  {
   "cell_type": "markdown",
   "id": "3d63e044-26a5-4ee4-8a56-eda8c5471263",
   "metadata": {},
   "source": [
    " # input and output function"
   ]
  },
  {
   "cell_type": "code",
   "execution_count": null,
   "id": "88865b19-62a5-43be-b822-2f60e5975e56",
   "metadata": {},
   "outputs": [],
   "source": [
    "input function will take input from the user"
   ]
  },
  {
   "cell_type": "code",
   "execution_count": 16,
   "id": "e0b7d3f6-0396-437a-8d8e-a4ef2bd9fb56",
   "metadata": {},
   "outputs": [
    {
     "name": "stdin",
     "output_type": "stream",
     "text": [
      "Enter the value 10\n",
      "Enter the value 20\n"
     ]
    },
    {
     "name": "stdout",
     "output_type": "stream",
     "text": [
      "30.0\n"
     ]
    }
   ],
   "source": [
    "a = float(input(\"Enter the value\"))\n",
    "b = float(input(\"Enter the value\"))\n",
    "print(a+b)"
   ]
  },
  {
   "cell_type": "code",
   "execution_count": 19,
   "id": "8d6758a9-619c-4244-b353-1263c60b346d",
   "metadata": {},
   "outputs": [
    {
     "name": "stdin",
     "output_type": "stream",
     "text": [
      "Enter the value 'awantika'\n",
      "Enter the value 10\n"
     ]
    },
    {
     "name": "stdout",
     "output_type": "stream",
     "text": [
      "<class 'str'>\n",
      "<class 'int'>\n"
     ]
    }
   ],
   "source": [
    "# eval function - whatever value we are giving it will convert it into that data type(it convert data type dynamically)\n",
    "a = eval(input(\"Enter the value\"))\n",
    "b = eval(input(\"Enter the value\"))\n",
    "print(type(a))\n",
    "print(type(b))\n",
    "\n"
   ]
  },
  {
   "cell_type": "code",
   "execution_count": 20,
   "id": "95cef042-4032-46bf-a11a-0bf572452589",
   "metadata": {},
   "outputs": [
    {
     "name": "stdout",
     "output_type": "stream",
     "text": [
      "10\n",
      "20\n"
     ]
    }
   ],
   "source": [
    "# output function\n",
    "\n",
    "a = 10\n",
    "b = 20\n",
    "print(a)\n",
    "print(b)"
   ]
  },
  {
   "cell_type": "code",
   "execution_count": 23,
   "id": "70bd6855-2fa2-4224-aae8-3a28fbd4516e",
   "metadata": {},
   "outputs": [
    {
     "name": "stdout",
     "output_type": "stream",
     "text": [
      "1020"
     ]
    }
   ],
   "source": [
    "a = 10\n",
    "b = 20\n",
    "print(a, end='')\n",
    "print(b, end='')"
   ]
  },
  {
   "cell_type": "code",
   "execution_count": 29,
   "id": "4b108b69-ee88-4465-a2fb-150aa57c2087",
   "metadata": {},
   "outputs": [
    {
     "name": "stdout",
     "output_type": "stream",
     "text": [
      "10-->20\n"
     ]
    }
   ],
   "source": [
    "a = 10\n",
    "b = 20\n",
    "print(a,b,sep=\"-->\")"
   ]
  },
  {
   "cell_type": "code",
   "execution_count": 27,
   "id": "0023b603-b186-4824-b3ac-5188475b1b8e",
   "metadata": {},
   "outputs": [
    {
     "name": "stdout",
     "output_type": "stream",
     "text": [
      "280==10-->80**10\n",
      "280 90\n",
      "\n",
      "200++80++10--"
     ]
    }
   ],
   "source": [
    "a = 200\n",
    "b = 80\n",
    "c = 10\n",
    "d = a+b\n",
    "print(a+b, c , sep='==' ,end='-->')\n",
    "print(b,c , sep=\"**\")\n",
    "print(d,c+b,end=\"\\n\\n\")\n",
    "print(a,b,c ,sep=\"++\",end=\"--\")"
   ]
  },
  {
   "cell_type": "code",
   "execution_count": 37,
   "id": "541b75ab-837d-4dba-95f6-f08199ae7ba3",
   "metadata": {},
   "outputs": [
    {
     "name": "stdin",
     "output_type": "stream",
     "text": [
      "Enter name awantika\n",
      "Enter name srivastava\n"
     ]
    },
    {
     "name": "stdout",
     "output_type": "stream",
     "text": [
      "awantika srivastava "
     ]
    }
   ],
   "source": [
    "# write a first name and last name by taking input.\n",
    "firstName = input(\"Enter name\")\n",
    "lastName = input(\"Enter name\")\n",
    "print(firstName, lastName, end = ' ')\n",
    "\n"
   ]
  },
  {
   "cell_type": "code",
   "execution_count": 39,
   "id": "d04c9213-0757-4572-b356-3342b420cd84",
   "metadata": {},
   "outputs": [
    {
     "name": "stdin",
     "output_type": "stream",
     "text": [
      "Enter first name awantika\n",
      "Enter second name srivastava\n"
     ]
    },
    {
     "name": "stdout",
     "output_type": "stream",
     "text": [
      "my first name is awantika and second name is srivastava \n"
     ]
    }
   ],
   "source": [
    "#format strings\n",
    "\n",
    "first_name = input(\"Enter first name\")\n",
    "second_name = input(\"Enter second name\")\n",
    "print(f\"my first name is {first_name} and second name is {second_name} \")"
   ]
  },
  {
   "cell_type": "code",
   "execution_count": 41,
   "id": "d1565833-0a28-45f6-b20d-ac95f484e36b",
   "metadata": {},
   "outputs": [
    {
     "name": "stdin",
     "output_type": "stream",
     "text": [
      "Enter first name awantika\n",
      "Enter second name srivastava\n"
     ]
    },
    {
     "name": "stdout",
     "output_type": "stream",
     "text": [
      "my first name is awantika and second name is srivastava \n"
     ]
    }
   ],
   "source": [
    "first_name = input(\"Enter first name\")\n",
    "second_name = input(\"Enter second name\")\n",
    "print(\"my first name is {} and second name is {} \".format(first_name,second_name))"
   ]
  },
  {
   "cell_type": "code",
   "execution_count": null,
   "id": "f3d08ced-4618-46f0-a12e-e8580045d437",
   "metadata": {},
   "outputs": [],
   "source": [
    "# operations that are possible in float\n",
    "- arithematic op\n",
    "- comparison\n",
    "- equality\n",
    "- logical \n",
    "- identity op\n",
    "- compound opt except bitwise\n",
    "\n",
    "# op that are not possible\n",
    "- bitwise op\n",
    "\n",
    "# object reusability\n",
    "not possible"
   ]
  },
  {
   "cell_type": "code",
   "execution_count": 43,
   "id": "d4beb254-d643-459f-b188-37ea4f83929f",
   "metadata": {},
   "outputs": [
    {
     "name": "stdout",
     "output_type": "stream",
     "text": [
      "<class 'complex'>\n",
      "10.0\n",
      "6.0\n"
     ]
    }
   ],
   "source": [
    "# complex data type\n",
    "\n",
    "a = 10+6j\n",
    "print(type(a))\n",
    "print(a.real)\n",
    "print(a.imag)"
   ]
  },
  {
   "cell_type": "code",
   "execution_count": null,
   "id": "27c875f0-ab2e-449c-bf16-11944c15ca8e",
   "metadata": {},
   "outputs": [],
   "source": [
    "# bool data type\n",
    "\n",
    "True --> 1\n",
    "False --> 0"
   ]
  },
  {
   "cell_type": "code",
   "execution_count": 45,
   "id": "93c60f14-9846-4314-8031-3388f5257d82",
   "metadata": {},
   "outputs": [
    {
     "name": "stdout",
     "output_type": "stream",
     "text": [
      "<class 'bool'>\n"
     ]
    }
   ],
   "source": [
    "a = True\n",
    "print(type(a))"
   ]
  },
  {
   "cell_type": "code",
   "execution_count": 46,
   "id": "d2a930d3-baf6-49ce-afe2-467a577d67b7",
   "metadata": {},
   "outputs": [
    {
     "name": "stdout",
     "output_type": "stream",
     "text": [
      "python's\n"
     ]
    }
   ],
   "source": [
    "# String data type\n",
    "a = \"python's\"\n",
    "print(a)"
   ]
  },
  {
   "cell_type": "code",
   "execution_count": 47,
   "id": "eeccb48f-090f-4def-b1c3-6d91bac1ce1a",
   "metadata": {},
   "outputs": [
    {
     "name": "stdout",
     "output_type": "stream",
     "text": [
      "python\"s\n"
     ]
    }
   ],
   "source": [
    "b = 'python\"s'\n",
    "print(b)"
   ]
  },
  {
   "cell_type": "code",
   "execution_count": 50,
   "id": "8ea17bb2-1920-4017-a202-e7ddc3f3bda4",
   "metadata": {},
   "outputs": [
    {
     "name": "stdout",
     "output_type": "stream",
     "text": [
      "Hello world\n"
     ]
    }
   ],
   "source": [
    "c = '''Hello world'''\n",
    "print(c)"
   ]
  },
  {
   "cell_type": "markdown",
   "id": "2adaceee-18bd-43b6-8bb4-a030d221cc41",
   "metadata": {},
   "source": [
    "# Special Characters"
   ]
  },
  {
   "cell_type": "code",
   "execution_count": 51,
   "id": "04aeb35c-9826-4c21-983d-7a5f8e0356ca",
   "metadata": {},
   "outputs": [
    {
     "name": "stdout",
     "output_type": "stream",
     "text": [
      "python\"s\n"
     ]
    }
   ],
   "source": [
    "a = \"python\\\"s\"\n",
    "print(a)"
   ]
  },
  {
   "cell_type": "code",
   "execution_count": 53,
   "id": "1272a6e1-dc7e-4514-a3fa-4289c266fc54",
   "metadata": {},
   "outputs": [
    {
     "name": "stdout",
     "output_type": "stream",
     "text": [
      "python\n",
      "learn\n"
     ]
    }
   ],
   "source": [
    "b = \"python\\nlearn\"\n",
    "print(b)"
   ]
  },
  {
   "cell_type": "code",
   "execution_count": 54,
   "id": "9e7499fd-ee9c-43df-bc0a-76c463186113",
   "metadata": {},
   "outputs": [
    {
     "name": "stdout",
     "output_type": "stream",
     "text": [
      "python\\learn\n"
     ]
    }
   ],
   "source": [
    "c = \"python\\\\learn\"\n",
    "print(c)"
   ]
  },
  {
   "cell_type": "code",
   "execution_count": 55,
   "id": "74b0094c-ea7a-4f6e-9528-c4e688cc3ae6",
   "metadata": {},
   "outputs": [
    {
     "name": "stdout",
     "output_type": "stream",
     "text": [
      "python\\nlearn\\fast\n"
     ]
    }
   ],
   "source": [
    "d = r\"python\\nlearn\\fast\"\n",
    "print(d)"
   ]
  },
  {
   "cell_type": "code",
   "execution_count": 57,
   "id": "8061c442-ea7a-4f93-828e-878883b56d92",
   "metadata": {},
   "outputs": [
    {
     "name": "stdout",
     "output_type": "stream",
     "text": [
      "pytholearb\n"
     ]
    }
   ],
   "source": [
    "e = \"python\\blearb\"\n",
    "print(e)"
   ]
  },
  {
   "cell_type": "code",
   "execution_count": 59,
   "id": "52bace74-39dc-4cde-b5c6-45e773ae9222",
   "metadata": {},
   "outputs": [
    {
     "name": "stdout",
     "output_type": "stream",
     "text": [
      "acde\n"
     ]
    }
   ],
   "source": [
    "f = ('ab'+'\\bc'+'de')\n",
    "print(f)"
   ]
  },
  {
   "cell_type": "code",
   "execution_count": 60,
   "id": "8f98da1c-1ff7-4f6e-8e79-11f75e78946b",
   "metadata": {},
   "outputs": [
    {
     "name": "stdout",
     "output_type": "stream",
     "text": [
      "1476355877184\n",
      "1476363353856\n"
     ]
    }
   ],
   "source": [
    "# memory reusability\n",
    "\n",
    "a = \"python\"\n",
    "b = \"cython\"\n",
    "print(id(a))\n",
    "print(id(b))"
   ]
  },
  {
   "cell_type": "code",
   "execution_count": 62,
   "id": "57e74b4e-9938-4b18-b00b-845085df9a1d",
   "metadata": {},
   "outputs": [
    {
     "name": "stdout",
     "output_type": "stream",
     "text": [
      "140721103483568\n",
      "140721103482944\n"
     ]
    }
   ],
   "source": [
    "print(id(a[0]))\n",
    "print(id(b[0]))"
   ]
  },
  {
   "cell_type": "code",
   "execution_count": 63,
   "id": "3181cc94-7bc8-4535-a3df-cbe0fb1d1c06",
   "metadata": {},
   "outputs": [
    {
     "name": "stdout",
     "output_type": "stream",
     "text": [
      "140721103484000\n",
      "140721103484000\n"
     ]
    }
   ],
   "source": [
    "print(id(a[1]))\n",
    "print(id(b[1]))"
   ]
  },
  {
   "cell_type": "code",
   "execution_count": 65,
   "id": "6891c608-21cd-41a1-a70f-c755c31e9bce",
   "metadata": {},
   "outputs": [
    {
     "name": "stdout",
     "output_type": "stream",
     "text": [
      "140721103482848\n",
      "140721103483904\n",
      "140721103482848\n",
      "140721103483472\n",
      "140721103483760\n",
      "140721103483232\n",
      "140721103483328\n",
      "140721103482848\n"
     ]
    }
   ],
   "source": [
    "a = \"awantika\"\n",
    "print(id(a[0]))\n",
    "print(id(a[1]))\n",
    "print(id(a[2]))\n",
    "print(id(a[3]))\n",
    "print(id(a[4]))\n",
    "print(id(a[5]))\n",
    "print(id(a[6]))\n",
    "print(id(a[7]))"
   ]
  },
  {
   "cell_type": "code",
   "execution_count": 66,
   "id": "89238813-9d69-46ba-9425-78ea57570ff4",
   "metadata": {},
   "outputs": [
    {
     "name": "stdout",
     "output_type": "stream",
     "text": [
      "1476512661616\n",
      "1476513590448\n"
     ]
    }
   ],
   "source": [
    "a = \"awantika\"\n",
    "b = \" srivastava\"\n",
    "print(id(a))\n",
    "print(id(b))"
   ]
  },
  {
   "cell_type": "code",
   "execution_count": 67,
   "id": "c3b4ad4b-8836-446c-b1ae-0670af0c5d48",
   "metadata": {},
   "outputs": [
    {
     "name": "stdout",
     "output_type": "stream",
     "text": [
      "awantika srivastava\n"
     ]
    }
   ],
   "source": [
    "print(a+b)"
   ]
  },
  {
   "cell_type": "code",
   "execution_count": 68,
   "id": "6d63f8b0-4a80-4fe4-93b1-3f40bf4e6bd4",
   "metadata": {},
   "outputs": [
    {
     "name": "stdout",
     "output_type": "stream",
     "text": [
      "1476513926000\n"
     ]
    }
   ],
   "source": [
    "print(id(a+b))\n"
   ]
  },
  {
   "cell_type": "code",
   "execution_count": 69,
   "id": "7e79b519-c473-43f2-b762-ec87615b23c6",
   "metadata": {},
   "outputs": [
    {
     "name": "stdout",
     "output_type": "stream",
     "text": [
      " \n"
     ]
    }
   ],
   "source": [
    "# indexing in string \n",
    "\n",
    "a = \"python class\"\n",
    "print(a[6])"
   ]
  },
  {
   "cell_type": "code",
   "execution_count": 70,
   "id": "4c057e2b-e750-4c22-a0f9-b19c41a09be9",
   "metadata": {},
   "outputs": [
    {
     "data": {
      "text/plain": [
       "' '"
      ]
     },
     "execution_count": 70,
     "metadata": {},
     "output_type": "execute_result"
    }
   ],
   "source": [
    "a[-6]"
   ]
  },
  {
   "cell_type": "code",
   "execution_count": 71,
   "id": "267100cb-a2aa-49af-af58-e4f0a7198cdb",
   "metadata": {},
   "outputs": [
    {
     "name": "stdout",
     "output_type": "stream",
     "text": [
      "1476513867760\n",
      "1476513865648\n"
     ]
    }
   ],
   "source": [
    "a = 'awantika srivastava'   # memory reuasibilty is for single elements in a string but object reuasability is for whole string\n",
    "b = 'awantika srivastava'\n",
    "print(id(a))\n",
    "print(id(b))"
   ]
  },
  {
   "cell_type": "code",
   "execution_count": 73,
   "id": "b6529dc3-4aba-4887-a3d6-b6c9ca976479",
   "metadata": {},
   "outputs": [
    {
     "name": "stdout",
     "output_type": "stream",
     "text": [
      "1476512661616\n",
      "1476512661616\n"
     ]
    }
   ],
   "source": [
    "a = 'awantika'\n",
    "b = 'awantika'\n",
    "print(id(a))\n",
    "print(id(b))"
   ]
  },
  {
   "cell_type": "markdown",
   "id": "019e622a-282e-4d6d-9d00-b29f4e846264",
   "metadata": {},
   "source": [
    "# Slicing"
   ]
  },
  {
   "cell_type": "code",
   "execution_count": null,
   "id": "a1b1ea43-6c77-4b06-a825-a1be55cde155",
   "metadata": {},
   "outputs": [],
   "source": [
    "# slicing :- We can extract more than one element(subseq from seq)\n",
    "\n",
    "# string is a seq it allows indexing from left to right and right to left(+ve (L to R)and -ve(Rto L) indexing)\n",
    "\n",
    "string is immutable"
   ]
  },
  {
   "cell_type": "code",
   "execution_count": null,
   "id": "e481929f-418a-4019-8ebd-5538bcf2e37a",
   "metadata": {},
   "outputs": [],
   "source": [
    "# indexing \n",
    "acessing one element at a time."
   ]
  },
  {
   "cell_type": "code",
   "execution_count": 1,
   "id": "e88e0492-9b94-438f-82ad-90b5e5084ed7",
   "metadata": {},
   "outputs": [
    {
     "data": {
      "text/plain": [
       "'o'"
      ]
     },
     "execution_count": 1,
     "metadata": {},
     "output_type": "execute_result"
    }
   ],
   "source": [
    "s1 = 'python'\n",
    "s1[-2]\n"
   ]
  },
  {
   "cell_type": "code",
   "execution_count": null,
   "id": "98fb9e19-e3d2-4839-af77-92369072aefc",
   "metadata": {},
   "outputs": [],
   "source": [
    "syntax --> [start_index : stop_index : step_size]\n",
    "\n",
    "Default value \n",
    "syntax --> var[::]\n",
    "start_index=0\n",
    "stop_index=length of str\n",
    "step = 1"
   ]
  },
  {
   "cell_type": "code",
   "execution_count": 2,
   "id": "3ed15bc9-9fc3-4452-bf99-4c1e3ef9aac3",
   "metadata": {},
   "outputs": [
    {
     "data": {
      "text/plain": [
       "'python'"
      ]
     },
     "execution_count": 2,
     "metadata": {},
     "output_type": "execute_result"
    }
   ],
   "source": [
    "s1[::]"
   ]
  },
  {
   "cell_type": "code",
   "execution_count": 3,
   "id": "fda522dd-b02d-4523-8ce8-6e42cfaa8898",
   "metadata": {},
   "outputs": [
    {
     "data": {
      "text/plain": [
       "'pto'"
      ]
     },
     "execution_count": 3,
     "metadata": {},
     "output_type": "execute_result"
    }
   ],
   "source": [
    "s1[::2]"
   ]
  },
  {
   "cell_type": "code",
   "execution_count": 5,
   "id": "8a993543-2774-4cfb-922b-e01438c59f17",
   "metadata": {},
   "outputs": [
    {
     "data": {
      "text/plain": [
       "'typ'"
      ]
     },
     "execution_count": 5,
     "metadata": {},
     "output_type": "execute_result"
    }
   ],
   "source": [
    "s1 = 'python'\n",
    "s1[-4:-7:-1]"
   ]
  },
  {
   "cell_type": "code",
   "execution_count": 7,
   "id": "8a14143a-583e-4021-9338-b86019a9c4a2",
   "metadata": {},
   "outputs": [
    {
     "data": {
      "text/plain": [
       "'typ'"
      ]
     },
     "execution_count": 7,
     "metadata": {},
     "output_type": "execute_result"
    }
   ],
   "source": [
    "s1[-4:-len(s1)-1:-1]"
   ]
  },
  {
   "cell_type": "code",
   "execution_count": 12,
   "id": "a5eb1cf7-8cb1-426d-be18-9518b8ef5d87",
   "metadata": {},
   "outputs": [
    {
     "data": {
      "text/plain": [
       "'issem'"
      ]
     },
     "execution_count": 12,
     "metadata": {},
     "output_type": "execute_result"
    }
   ],
   "source": [
    "s2 = 'lionel#messi'\n",
    "s2[:-6:-1]"
   ]
  },
  {
   "cell_type": "code",
   "execution_count": 13,
   "id": "f965d1a6-9c67-46b1-8a15-f95972e59eaa",
   "metadata": {},
   "outputs": [
    {
     "data": {
      "text/plain": [
       "'loe#es'"
      ]
     },
     "execution_count": 13,
     "metadata": {},
     "output_type": "execute_result"
    }
   ],
   "source": [
    "s2[::2]"
   ]
  },
  {
   "cell_type": "code",
   "execution_count": 14,
   "id": "5df1a135-516c-486c-b7b7-2d3fd656eeb2",
   "metadata": {},
   "outputs": [
    {
     "data": {
      "text/plain": [
       "'lionel#messi'"
      ]
     },
     "execution_count": 14,
     "metadata": {},
     "output_type": "execute_result"
    }
   ],
   "source": [
    "s2[:]"
   ]
  },
  {
   "cell_type": "code",
   "execution_count": 15,
   "id": "bd7d12f4-5d0d-4c17-8ddb-bb38eb19733c",
   "metadata": {},
   "outputs": [
    {
     "data": {
      "text/plain": [
       "'issem#lenoil'"
      ]
     },
     "execution_count": 15,
     "metadata": {},
     "output_type": "execute_result"
    }
   ],
   "source": [
    "s2[::-1]"
   ]
  },
  {
   "cell_type": "code",
   "execution_count": 16,
   "id": "f388ad3f-238a-4074-a4bc-49d2eac8369b",
   "metadata": {},
   "outputs": [
    {
     "data": {
      "text/plain": [
       "'lenoil'"
      ]
     },
     "execution_count": 16,
     "metadata": {},
     "output_type": "execute_result"
    }
   ],
   "source": [
    "s2[5::-1]"
   ]
  },
  {
   "cell_type": "code",
   "execution_count": null,
   "id": "06f43671-8947-41f1-83d5-4a894c18edbb",
   "metadata": {},
   "outputs": [],
   "source": [
    "# repetition \n",
    "\n",
    "op --> *\n",
    "operand --> one  should be str and one should be int"
   ]
  },
  {
   "cell_type": "code",
   "execution_count": 17,
   "id": "01c2dfee-fd62-481a-ba42-37d5b20991ed",
   "metadata": {},
   "outputs": [
    {
     "name": "stdout",
     "output_type": "stream",
     "text": [
      "awantikaawantikaawantikaawantikaawantika\n"
     ]
    }
   ],
   "source": [
    "a = 'awantika'\n",
    "b = 5\n",
    "print(a*b)"
   ]
  },
  {
   "cell_type": "code",
   "execution_count": null,
   "id": "3f19c45e-d0cf-44b9-b263-f2047af06ec4",
   "metadata": {},
   "outputs": [],
   "source": [
    "# memebership\n",
    "\n",
    "tells if the subseq is present in a string or not\n",
    "op - in and not in\n",
    "bool - true or false"
   ]
  },
  {
   "cell_type": "code",
   "execution_count": 18,
   "id": "1aa2a4aa-0d9d-482b-b722-7a775b5704ce",
   "metadata": {},
   "outputs": [
    {
     "name": "stdout",
     "output_type": "stream",
     "text": [
      "True\n"
     ]
    }
   ],
   "source": [
    "a = 'awantika is nice'\n",
    "print('is' in a)"
   ]
  },
  {
   "cell_type": "code",
   "execution_count": 19,
   "id": "41254ae0-435f-40f5-84e7-e6794ce732f5",
   "metadata": {},
   "outputs": [
    {
     "ename": "SyntaxError",
     "evalue": "invalid syntax (4118560150.py, line 1)",
     "output_type": "error",
     "traceback": [
      "\u001b[1;36m  Cell \u001b[1;32mIn[19], line 1\u001b[1;36m\u001b[0m\n\u001b[1;33m    string is immutable because we cannot modified it.\u001b[0m\n\u001b[1;37m                        ^\u001b[0m\n\u001b[1;31mSyntaxError\u001b[0m\u001b[1;31m:\u001b[0m invalid syntax\n"
     ]
    }
   ],
   "source": [
    "string is immutable because we cannot modified it.\n",
    " a = \"python\"\n",
    " a[0] = \"w\""
   ]
  },
  {
   "cell_type": "code",
   "execution_count": null,
   "id": "fd51f82d-f453-4f3e-aa1f-c0532fb237a0",
   "metadata": {},
   "outputs": [],
   "source": []
  }
 ],
 "metadata": {
  "kernelspec": {
   "display_name": "Python [conda env:base] *",
   "language": "python",
   "name": "conda-base-py"
  },
  "language_info": {
   "codemirror_mode": {
    "name": "ipython",
    "version": 3
   },
   "file_extension": ".py",
   "mimetype": "text/x-python",
   "name": "python",
   "nbconvert_exporter": "python",
   "pygments_lexer": "ipython3",
   "version": "3.13.5"
  }
 },
 "nbformat": 4,
 "nbformat_minor": 5
}
