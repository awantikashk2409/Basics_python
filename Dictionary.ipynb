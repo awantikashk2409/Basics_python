{
 "cells": [
  {
   "cell_type": "markdown",
   "id": "34c83ac7-357c-41ad-ba2a-9456483b4a31",
   "metadata": {},
   "source": [
    "# Dictionary"
   ]
  },
  {
   "cell_type": "code",
   "execution_count": 1,
   "id": "f3ce978b-ccf2-44cb-b031-424e7b813c38",
   "metadata": {},
   "outputs": [
    {
     "name": "stdout",
     "output_type": "stream",
     "text": [
      "{'empoly1': {'name': 'awantika', 'id': '1234'}}\n",
      "awantika\n",
      "1234\n"
     ]
    }
   ],
   "source": [
    "# how to create a dictionary\n",
    "employee_data = {'empoly1': \n",
    "                 {'name' : 'awantika', 'id' : '1234'}\n",
    "                }\n",
    "print(employee_data)\n",
    "print(employee_data['empoly1']['name'])\n",
    "print(employee_data['empoly1']['id'])"
   ]
  },
  {
   "cell_type": "code",
   "execution_count": 3,
   "id": "04f39ca7-213a-4b32-8d18-8278652084b0",
   "metadata": {},
   "outputs": [
    {
     "name": "stdin",
     "output_type": "stream",
     "text": [
      "Enter the dic {'empoly1': {'name': 'awantika', 'id': '1234'}}\n"
     ]
    },
    {
     "name": "stdout",
     "output_type": "stream",
     "text": [
      "{'empoly1': {'name': 'awantika', 'id': '1234'}} <class 'dict'>\n"
     ]
    }
   ],
   "source": [
    "# eval --> taking user as a input\n",
    "data = eval(input('Enter the dic'))\n",
    "print(data, type(data))"
   ]
  },
  {
   "cell_type": "code",
   "execution_count": null,
   "id": "a88c3a7f-d249-48f5-b812-cdf82c500c64",
   "metadata": {},
   "outputs": [],
   "source": [
    "#typecasting\n",
    "dictionary take a seq of inner sequence where inner sequence will have pair of values and out of the pair of value one is key and the other is value."
   ]
  },
  {
   "cell_type": "code",
   "execution_count": 8,
   "id": "c2d351e1-8d34-4d0d-af8b-e99546c4d5d5",
   "metadata": {},
   "outputs": [
    {
     "data": {
      "text/plain": [
       "{'emp1': 'awantika', 'emp2': 'ankit', 'emp3': 'sulabh'}"
      ]
     },
     "execution_count": 8,
     "metadata": {},
     "output_type": "execute_result"
    }
   ],
   "source": [
    "a = [('emp1','awantika'), ('emp2' ,'ankit') , ('emp3' ,'sulabh')]\n",
    "dict(a)"
   ]
  },
  {
   "cell_type": "code",
   "execution_count": 13,
   "id": "dd3fed3f-2077-41f5-acd7-d14f2ce963b5",
   "metadata": {},
   "outputs": [
    {
     "data": {
      "text/plain": [
       "[('emp1', 'awantika'), ('emp2', 'sulabh'), ('emp3', 'shaurya')]"
      ]
     },
     "execution_count": 13,
     "metadata": {},
     "output_type": "execute_result"
    }
   ],
   "source": [
    "# zip function\n",
    "list1 = ['emp1' , 'emp2' , 'emp3']\n",
    "list2 = ['awantika', 'sulabh' , 'shaurya']\n",
    "#syntax --> zip(iterable1, iterable2)\n",
    "dict(zip(list1,list2))\n",
    "tuple(zip(list1,list2))\n",
    "list(zip(list1,list2))"
   ]
  },
  {
   "cell_type": "code",
   "execution_count": 15,
   "id": "e01e1c20-210c-4d82-bf31-f7ae3fa24a8a",
   "metadata": {},
   "outputs": [
    {
     "name": "stdout",
     "output_type": "stream",
     "text": [
      "['__class__', '__class_getitem__', '__contains__', '__delattr__', '__delitem__', '__dir__', '__doc__', '__eq__', '__format__', '__ge__', '__getattribute__', '__getitem__', '__getstate__', '__gt__', '__hash__', '__init__', '__init_subclass__', '__ior__', '__iter__', '__le__', '__len__', '__lt__', '__ne__', '__new__', '__or__', '__reduce__', '__reduce_ex__', '__repr__', '__reversed__', '__ror__', '__setattr__', '__setitem__', '__sizeof__', '__str__', '__subclasshook__', 'clear', 'copy', 'fromkeys', 'get', 'items', 'keys', 'pop', 'popitem', 'setdefault', 'update', 'values']\n"
     ]
    }
   ],
   "source": [
    "# method on dic\n",
    "print(dir(dict))"
   ]
  },
  {
   "cell_type": "code",
   "execution_count": null,
   "id": "d3ccde40-b960-42af-8bba-0c8380851ce1",
   "metadata": {},
   "outputs": [],
   "source": [
    "1.)get\n",
    "2.)setdefault\n",
    "3.)update"
   ]
  },
  {
   "cell_type": "code",
   "execution_count": null,
   "id": "87adf91b-0b19-4e1b-800f-f2b30a45441f",
   "metadata": {},
   "outputs": [],
   "source": [
    "# get method\n",
    "if the kry is present it returns the value , else default value."
   ]
  },
  {
   "cell_type": "code",
   "execution_count": 18,
   "id": "9c23fdd9-25b6-4827-b68d-6cedc524e1c1",
   "metadata": {},
   "outputs": [
    {
     "ename": "AttributeError",
     "evalue": "'NoneType' object has no attribute 'get'",
     "output_type": "error",
     "traceback": [
      "\u001b[31m---------------------------------------------------------------------------\u001b[39m",
      "\u001b[31mAttributeError\u001b[39m                            Traceback (most recent call last)",
      "\u001b[36mCell\u001b[39m\u001b[36m \u001b[39m\u001b[32mIn[18]\u001b[39m\u001b[32m, line 7\u001b[39m\n\u001b[32m      1\u001b[39m employee_data = {\u001b[33m'\u001b[39m\u001b[33mempoly1\u001b[39m\u001b[33m'\u001b[39m: \n\u001b[32m      2\u001b[39m                  {\u001b[33m'\u001b[39m\u001b[33mname\u001b[39m\u001b[33m'\u001b[39m : \u001b[33m'\u001b[39m\u001b[33mawantika\u001b[39m\u001b[33m'\u001b[39m, \u001b[33m'\u001b[39m\u001b[33mid\u001b[39m\u001b[33m'\u001b[39m : \u001b[33m'\u001b[39m\u001b[33m1234\u001b[39m\u001b[33m'\u001b[39m},\n\u001b[32m      3\u001b[39m                  \u001b[33m'\u001b[39m\u001b[33mempoly2\u001b[39m\u001b[33m'\u001b[39m: \n\u001b[32m      4\u001b[39m                  {\u001b[33m'\u001b[39m\u001b[33mname\u001b[39m\u001b[33m'\u001b[39m : \u001b[33m'\u001b[39m\u001b[33mdisha\u001b[39m\u001b[33m'\u001b[39m, \u001b[33m'\u001b[39m\u001b[33mid\u001b[39m\u001b[33m'\u001b[39m : \u001b[33m'\u001b[39m\u001b[33m4565\u001b[39m\u001b[33m'\u001b[39m}\n\u001b[32m      5\u001b[39m                 }\n\u001b[32m      6\u001b[39m employee_data.get(\u001b[33m'\u001b[39m\u001b[33mempoly1\u001b[39m\u001b[33m'\u001b[39m).get(\u001b[33m'\u001b[39m\u001b[33mname\u001b[39m\u001b[33m'\u001b[39m)\n\u001b[32m----> \u001b[39m\u001b[32m7\u001b[39m \u001b[43memployee_data\u001b[49m\u001b[43m.\u001b[49m\u001b[43mget\u001b[49m\u001b[43m(\u001b[49m\u001b[33;43m'\u001b[39;49m\u001b[33;43mempoly3\u001b[39;49m\u001b[33;43m'\u001b[39;49m\u001b[43m)\u001b[49m\u001b[43m.\u001b[49m\u001b[43mget\u001b[49m(\u001b[33m'\u001b[39m\u001b[33mname\u001b[39m\u001b[33m'\u001b[39m)\n",
      "\u001b[31mAttributeError\u001b[39m: 'NoneType' object has no attribute 'get'"
     ]
    }
   ],
   "source": [
    "employee_data = {'empoly1': \n",
    "                 {'name' : 'awantika', 'id' : '1234'},\n",
    "                 'empoly2': \n",
    "                 {'name' : 'disha', 'id' : '4565'}\n",
    "                }\n",
    "employee_data.get('empoly1').get('name')\n",
    "employee_data.get('empoly3').get('name')"
   ]
  },
  {
   "cell_type": "code",
   "execution_count": 24,
   "id": "13dd21be-362f-4e54-b7a5-1dceea28b230",
   "metadata": {},
   "outputs": [
    {
     "name": "stdout",
     "output_type": "stream",
     "text": [
      "key is not present\n"
     ]
    }
   ],
   "source": [
    "employee_data = {'empoly1': \n",
    "                 {'name' : 'awantika', 'id' : '1234'},\n",
    "                 'empoly2': \n",
    "                 {'name' : 'disha', 'id' : '4565'}\n",
    "                }\n",
    "print(employee_data.get('empoly3' , 'key is not present'))"
   ]
  },
  {
   "cell_type": "code",
   "execution_count": null,
   "id": "02a333ea-58d7-49cd-8da9-5ba352955bca",
   "metadata": {},
   "outputs": [],
   "source": [
    "# set default --> it insert the key with the value of the default if the key is not present,else return the value of the key."
   ]
  },
  {
   "cell_type": "code",
   "execution_count": 30,
   "id": "0c296bd5-1c27-4274-9faf-42684f141495",
   "metadata": {},
   "outputs": [
    {
     "name": "stdout",
     "output_type": "stream",
     "text": [
      "None\n"
     ]
    }
   ],
   "source": [
    "\n",
    "# when key is present\n",
    "employee_data = {'empoly1': \n",
    "                 {'name' : 'awantika', 'id' : '1234'},\n",
    "                 'empoly2': \n",
    "                 {'name' : 'disha', 'id' : '4565'}\n",
    "                }\n",
    "print(employee_data.setdefault('empoly1'))"
   ]
  },
  {
   "cell_type": "code",
   "execution_count": 31,
   "id": "648cae18-287f-40e1-a55a-2edd7bbb1b99",
   "metadata": {},
   "outputs": [
    {
     "name": "stdout",
     "output_type": "stream",
     "text": [
      "None\n"
     ]
    }
   ],
   "source": [
    "# when key is not present\n",
    "employee_data = {'empoly1': \n",
    "                 {'name' : 'awantika', 'id' : '1234'},\n",
    "                 'empoly2': \n",
    "                 {'name' : 'disha', 'id' : '4565'}\n",
    "                }\n",
    "print(employee_data.setdefault('empoly3'))"
   ]
  },
  {
   "cell_type": "code",
   "execution_count": 32,
   "id": "e3679f2a-d758-4966-84ee-7bfb6bb2236c",
   "metadata": {},
   "outputs": [
    {
     "data": {
      "text/plain": [
       "{'empoly1': {'name': 'awantika', 'id': '1234'},\n",
       " 'empoly2': {'name': 'disha', 'id': '4565'},\n",
       " 'empoly3': None}"
      ]
     },
     "execution_count": 32,
     "metadata": {},
     "output_type": "execute_result"
    }
   ],
   "source": [
    "employee_data"
   ]
  },
  {
   "cell_type": "code",
   "execution_count": 33,
   "id": "75580467-6708-4486-a469-6547200eecd5",
   "metadata": {},
   "outputs": [
    {
     "name": "stdout",
     "output_type": "stream",
     "text": [
      "new key\n"
     ]
    }
   ],
   "source": [
    "employee_data = {'empoly1': \n",
    "                 {'name' : 'awantika', 'id' : '1234'},\n",
    "                 'empoly2': \n",
    "                 {'name' : 'disha', 'id' : '4565'}\n",
    "                }\n",
    "print(employee_data.setdefault('empoly3', 'new key'))"
   ]
  },
  {
   "cell_type": "code",
   "execution_count": 34,
   "id": "f9e3afb6-cda7-46d7-b485-495901f835c2",
   "metadata": {},
   "outputs": [
    {
     "data": {
      "text/plain": [
       "{'empoly1': {'name': 'awantika', 'id': '1234'},\n",
       " 'empoly2': {'name': 'disha', 'id': '4565'},\n",
       " 'empoly3': 'new key'}"
      ]
     },
     "execution_count": 34,
     "metadata": {},
     "output_type": "execute_result"
    }
   ],
   "source": [
    "employee_data"
   ]
  },
  {
   "cell_type": "code",
   "execution_count": 38,
   "id": "0702521a-9b8e-4953-92ec-08890093e038",
   "metadata": {},
   "outputs": [],
   "source": [
    "# update \n",
    "employee_data = {'empoly1': \n",
    "                 {'name' : 'awantika', 'id' : '1234'},\n",
    "                 'empoly2': \n",
    "                 {'name' : 'disha', 'id' : '4565'}\n",
    "                }\n",
    "data = {'empoly3': \n",
    "                 {'name' : 'awantika11', 'id' : '1234'},\n",
    "                 'empoly4': \n",
    "                 {'name' : 'disha11', 'id' : '4565'}\n",
    "                }\n",
    "(employee_data.update(data))"
   ]
  },
  {
   "cell_type": "code",
   "execution_count": 39,
   "id": "109730ce-7150-4b19-bc60-c5acb72aebde",
   "metadata": {},
   "outputs": [
    {
     "data": {
      "text/plain": [
       "{'empoly1': {'name': 'awantika', 'id': '1234'},\n",
       " 'empoly2': {'name': 'disha', 'id': '4565'},\n",
       " 'empoly3': {'name': 'awantika11', 'id': '1234'},\n",
       " 'empoly4': {'name': 'disha11', 'id': '4565'}}"
      ]
     },
     "execution_count": 39,
     "metadata": {},
     "output_type": "execute_result"
    }
   ],
   "source": [
    "employee_data"
   ]
  },
  {
   "cell_type": "code",
   "execution_count": null,
   "id": "3e87399d-b5dc-4045-a094-c889281106f4",
   "metadata": {},
   "outputs": [],
   "source": [
    "# methods to delete item from dictionary\n",
    "1.)pop\n",
    "2.)popitem"
   ]
  },
  {
   "cell_type": "code",
   "execution_count": 40,
   "id": "adf9f4a7-36a0-48cc-9afb-a83db0ceacca",
   "metadata": {},
   "outputs": [
    {
     "data": {
      "text/plain": [
       "{'name': 'awantika', 'id': '1234'}"
      ]
     },
     "execution_count": 40,
     "metadata": {},
     "output_type": "execute_result"
    }
   ],
   "source": [
    "#it return specify key it will remove the key with the value.\n",
    "employee_data = {'empoly1': \n",
    "                 {'name' : 'awantika', 'id' : '1234'},\n",
    "                 'empoly2': \n",
    "                 {'name' : 'disha', 'id' : '4565'}\n",
    "                }\n",
    "employee_data.pop('empoly1')"
   ]
  },
  {
   "cell_type": "code",
   "execution_count": 41,
   "id": "4b73d355-7b1a-4ce4-aa99-1387f90e763b",
   "metadata": {},
   "outputs": [
    {
     "data": {
      "text/plain": [
       "{'empoly2': {'name': 'disha', 'id': '4565'}}"
      ]
     },
     "execution_count": 41,
     "metadata": {},
     "output_type": "execute_result"
    }
   ],
   "source": [
    "employee_data"
   ]
  },
  {
   "cell_type": "code",
   "execution_count": 43,
   "id": "ee9cf4c4-f135-4497-b282-94c40a603e27",
   "metadata": {},
   "outputs": [
    {
     "data": {
      "text/plain": [
       "'nothing to give'"
      ]
     },
     "execution_count": 43,
     "metadata": {},
     "output_type": "execute_result"
    }
   ],
   "source": [
    "#when key is not present, it will give error else if we write anything it will return that value\n",
    "employee_data = {'empoly1': \n",
    "                 {'name' : 'awantika', 'id' : '1234'},\n",
    "                 'empoly2': \n",
    "                 {'name' : 'disha', 'id' : '4565'}\n",
    "                }\n",
    "employee_data.pop('empoly3' ,'nothing to give')\n"
   ]
  },
  {
   "cell_type": "code",
   "execution_count": 45,
   "id": "6a6cb492-4327-4cf8-8024-319291739bc9",
   "metadata": {},
   "outputs": [
    {
     "data": {
      "text/plain": [
       "('empoly2', {'name': 'disha', 'id': '4565'})"
      ]
     },
     "execution_count": 45,
     "metadata": {},
     "output_type": "execute_result"
    }
   ],
   "source": [
    "# pop item\n",
    "#it removes the last key\n",
    "# syntax --> remove value will be a tuple(key,value)\n",
    "employee_data = {'empoly1': \n",
    "                 {'name' : 'awantika', 'id' : '1234'},\n",
    "                 'empoly2': \n",
    "                 {'name' : 'disha', 'id' : '4565'}\n",
    "                }\n",
    "employee_data.popitem()"
   ]
  },
  {
   "cell_type": "code",
   "execution_count": 46,
   "id": "73027327-8cf9-4208-beef-e62708981a48",
   "metadata": {},
   "outputs": [
    {
     "data": {
      "text/plain": [
       "{'empoly1': {'name': 'awantika', 'id': '1234'}}"
      ]
     },
     "execution_count": 46,
     "metadata": {},
     "output_type": "execute_result"
    }
   ],
   "source": [
    "employee_data"
   ]
  },
  {
   "cell_type": "code",
   "execution_count": 48,
   "id": "a596cf2a-b50b-425e-b488-97994bf66bdd",
   "metadata": {},
   "outputs": [
    {
     "data": {
      "text/plain": [
       "('id', '1234')"
      ]
     },
     "execution_count": 48,
     "metadata": {},
     "output_type": "execute_result"
    }
   ],
   "source": [
    "employee_data['empoly1'].popitem()"
   ]
  },
  {
   "cell_type": "code",
   "execution_count": 49,
   "id": "738367b1-5fa7-47c0-940f-2cc8779169b9",
   "metadata": {},
   "outputs": [
    {
     "data": {
      "text/plain": [
       "{'empoly1': {'name': 'awantika'}}"
      ]
     },
     "execution_count": 49,
     "metadata": {},
     "output_type": "execute_result"
    }
   ],
   "source": [
    "employee_data"
   ]
  },
  {
   "cell_type": "code",
   "execution_count": 50,
   "id": "af669165-dabe-411b-87be-aba92f634bf4",
   "metadata": {},
   "outputs": [
    {
     "data": {
      "text/plain": [
       "dict_keys(['empoly1'])"
      ]
     },
     "execution_count": 50,
     "metadata": {},
     "output_type": "execute_result"
    }
   ],
   "source": [
    "# methods to see all the keys in a dictionary\n",
    "employee_data.keys()"
   ]
  },
  {
   "cell_type": "code",
   "execution_count": 52,
   "id": "1fb957f2-8392-4f20-ae5d-f60533e4de76",
   "metadata": {},
   "outputs": [
    {
     "data": {
      "text/plain": [
       "dict_values([{'name': 'awantika', 'id': '1234'}, {'name': 'disha', 'id': '4565'}])"
      ]
     },
     "execution_count": 52,
     "metadata": {},
     "output_type": "execute_result"
    }
   ],
   "source": [
    "# methods to see all the values in a dictionary\n",
    "employee_data = {'empoly1': \n",
    "                 {'name' : 'awantika', 'id' : '1234'},\n",
    "                 'empoly2': \n",
    "                 {'name' : 'disha', 'id' : '4565'}\n",
    "                }\n",
    "employee_data.values()"
   ]
  },
  {
   "cell_type": "code",
   "execution_count": 53,
   "id": "637d3018-61d6-42a6-ae94-570cdc8e9275",
   "metadata": {},
   "outputs": [
    {
     "data": {
      "text/plain": [
       "dict_items([('empoly1', {'name': 'awantika', 'id': '1234'}), ('empoly2', {'name': 'disha', 'id': '4565'})])"
      ]
     },
     "execution_count": 53,
     "metadata": {},
     "output_type": "execute_result"
    }
   ],
   "source": [
    "# methods to see all the items\n",
    "employee_data.items()"
   ]
  },
  {
   "cell_type": "code",
   "execution_count": null,
   "id": "89275afb-cac5-4bfd-8185-21886b30714a",
   "metadata": {},
   "outputs": [],
   "source": [
    "[(key,value),(key,value)]"
   ]
  },
  {
   "cell_type": "code",
   "execution_count": null,
   "id": "42f6b4c6-b60c-48be-ab93-a8f34ac0b887",
   "metadata": {},
   "outputs": [],
   "source": [
    "# fromkeys\n",
    "create new dictionary with keys from iterable and value to set value parameter"
   ]
  },
  {
   "cell_type": "code",
   "execution_count": 54,
   "id": "d7e6abc3-6ebb-4c2f-b63a-c5ec29f14d07",
   "metadata": {},
   "outputs": [
    {
     "name": "stdout",
     "output_type": "stream",
     "text": [
      "{'awantika': 0, 'shruti': 0, 'nikita': 0}\n"
     ]
    }
   ],
   "source": [
    "a = ['awantika', 'shruti' , 'nikita']\n",
    "data = dict.fromkeys(a,0)\n",
    "print(data)"
   ]
  },
  {
   "cell_type": "code",
   "execution_count": 55,
   "id": "a8589b13-4989-4b5f-86a0-7bce8768cf46",
   "metadata": {},
   "outputs": [
    {
     "data": {
      "text/plain": [
       "{'empoly1': {'name': 'awantika', 'id': '1234'},\n",
       " 'empoly2': {'name': 'disha', 'id': '4565'}}"
      ]
     },
     "execution_count": 55,
     "metadata": {},
     "output_type": "execute_result"
    }
   ],
   "source": [
    "employee_data"
   ]
  },
  {
   "cell_type": "code",
   "execution_count": 57,
   "id": "667989db-441b-4878-a691-8874aa2858ce",
   "metadata": {},
   "outputs": [],
   "source": [
    "employee_data.clear()"
   ]
  },
  {
   "cell_type": "code",
   "execution_count": 58,
   "id": "39931182-5732-4b7f-a125-f84406f1887e",
   "metadata": {},
   "outputs": [
    {
     "data": {
      "text/plain": [
       "{}"
      ]
     },
     "execution_count": 58,
     "metadata": {},
     "output_type": "execute_result"
    }
   ],
   "source": [
    "employee_data"
   ]
  },
  {
   "cell_type": "code",
   "execution_count": 62,
   "id": "d5b82be0-dc5b-44d7-9997-1ba78ae523b5",
   "metadata": {},
   "outputs": [
    {
     "data": {
      "text/plain": [
       "{1: 1, 2: 4, 3: 9, 4: 16, 5: 25, 6: 36}"
      ]
     },
     "execution_count": 62,
     "metadata": {},
     "output_type": "execute_result"
    }
   ],
   "source": [
    "# dictionary comprehension\n",
    "a = [1,2,3,4,5,6]\n",
    "{i:i**2 for i in a}"
   ]
  },
  {
   "cell_type": "code",
   "execution_count": null,
   "id": "3c2a6bcc-c04a-4520-a882-bb61f666bcaa",
   "metadata": {},
   "outputs": [],
   "source": []
  }
 ],
 "metadata": {
  "kernelspec": {
   "display_name": "Python 3 (ipykernel)",
   "language": "python",
   "name": "python3"
  },
  "language_info": {
   "codemirror_mode": {
    "name": "ipython",
    "version": 3
   },
   "file_extension": ".py",
   "mimetype": "text/x-python",
   "name": "python",
   "nbconvert_exporter": "python",
   "pygments_lexer": "ipython3",
   "version": "3.12.8"
  }
 },
 "nbformat": 4,
 "nbformat_minor": 5
}
