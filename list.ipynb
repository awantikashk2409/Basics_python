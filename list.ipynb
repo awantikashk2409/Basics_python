{
 "cells": [
  {
   "cell_type": "markdown",
   "id": "b4936485-62e0-48ab-b7a6-a7ab850fee8e",
   "metadata": {},
   "source": [
    "# list"
   ]
  },
  {
   "cell_type": "code",
   "execution_count": null,
   "id": "6710ac7d-d91e-4a10-b54b-cd06b4d61461",
   "metadata": {},
   "outputs": [],
   "source": [
    "# properties of list \n",
    "1.) mutable\n",
    "2.) +ve and -ve indexing\n",
    "3.)seq data type\n",
    "4.)allows duplicate elements\n",
    "5.)all operations\n",
    "6.) stores any data type in a list"
   ]
  },
  {
   "cell_type": "code",
   "execution_count": 1,
   "id": "7465dbd0-2886-4a3e-999a-1a85b6e016f1",
   "metadata": {},
   "outputs": [
    {
     "name": "stdout",
     "output_type": "stream",
     "text": [
      "[10, 20, 30, 40]\n"
     ]
    }
   ],
   "source": [
    "a = [10,20,30,40]\n",
    "print(a)"
   ]
  },
  {
   "cell_type": "code",
   "execution_count": 2,
   "id": "d869e5c5-f3c4-4122-ae6b-13b6a08fc836",
   "metadata": {},
   "outputs": [
    {
     "data": {
      "text/plain": [
       "10"
      ]
     },
     "execution_count": 2,
     "metadata": {},
     "output_type": "execute_result"
    }
   ],
   "source": [
    "a[0]"
   ]
  },
  {
   "cell_type": "code",
   "execution_count": 3,
   "id": "0f24384b-190a-4766-826a-fbd604c8cf82",
   "metadata": {},
   "outputs": [
    {
     "data": {
      "text/plain": [
       "40"
      ]
     },
     "execution_count": 3,
     "metadata": {},
     "output_type": "execute_result"
    }
   ],
   "source": [
    "a[-1]"
   ]
  },
  {
   "cell_type": "code",
   "execution_count": 4,
   "id": "59f0a55e-ab0d-4097-8fad-b74941195bb5",
   "metadata": {},
   "outputs": [
    {
     "name": "stdout",
     "output_type": "stream",
     "text": [
      "[11, 1, 1, 1, 12, 12, 12, 13, 13, 11]\n"
     ]
    }
   ],
   "source": [
    "a = [11,1,1,1,12,12,12,13,13,11]\n",
    "print(a)"
   ]
  },
  {
   "cell_type": "code",
   "execution_count": 7,
   "id": "6341e417-53ed-4749-b149-ae0724e40cab",
   "metadata": {},
   "outputs": [
    {
     "name": "stdout",
     "output_type": "stream",
     "text": [
      "[1, 2, 3, 4]\n",
      "1899161677184\n",
      "[100, 2, 3, 4]\n",
      "1899161677184\n"
     ]
    }
   ],
   "source": [
    "# mutable\n",
    "a = [1,2,3,4]\n",
    "print(a)\n",
    "print(id(a))\n",
    "a[0] = 100\n",
    "print(a)\n",
    "print(id(a))"
   ]
  },
  {
   "cell_type": "code",
   "execution_count": 8,
   "id": "12d28e28-e7b2-409a-a626-251b2d32e54a",
   "metadata": {},
   "outputs": [
    {
     "name": "stdout",
     "output_type": "stream",
     "text": [
      "[1, (3+2j), 'awantika', {1, 2, 3}, (1, 2, 3), None]\n"
     ]
    }
   ],
   "source": [
    "# you can store any data type\n",
    "\n",
    "a = [1, 3+2j , 'awantika',{1,2,3},(1,2,3),None]\n",
    "print(a)"
   ]
  },
  {
   "cell_type": "code",
   "execution_count": 9,
   "id": "7308ba1f-7c7b-4698-84ae-0f6560d8666f",
   "metadata": {},
   "outputs": [
    {
     "name": "stdout",
     "output_type": "stream",
     "text": [
      "1\n",
      "6\n",
      "6\n"
     ]
    }
   ],
   "source": [
    "# indexing\n",
    "a = [1,2,3,4,5,6]\n",
    "print(a[0])\n",
    "print(a[-1])\n",
    "print(a[len(a)-1])"
   ]
  },
  {
   "cell_type": "code",
   "execution_count": 13,
   "id": "5b287745-83da-4dfc-abb1-117058a9d13a",
   "metadata": {},
   "outputs": [
    {
     "data": {
      "text/plain": [
       "[]"
      ]
     },
     "execution_count": 13,
     "metadata": {},
     "output_type": "execute_result"
    }
   ],
   "source": [
    "#slicing\n",
    "a = [1,2,3,4,5,6]\n",
    "a[0:5:-1]"
   ]
  },
  {
   "cell_type": "code",
   "execution_count": 14,
   "id": "bbcbc97f-a872-44be-939c-678f4ac30dc4",
   "metadata": {},
   "outputs": [
    {
     "data": {
      "text/plain": [
       "[9, 8, 7, 6, 5, 4, 3, 2, 1]"
      ]
     },
     "execution_count": 14,
     "metadata": {},
     "output_type": "execute_result"
    }
   ],
   "source": [
    "a = [1,2,3,4,5,6,7,8,9]\n",
    "a[::-1]"
   ]
  },
  {
   "cell_type": "code",
   "execution_count": 16,
   "id": "e9d95a42-da0b-4c62-9164-b3974fda5462",
   "metadata": {},
   "outputs": [
    {
     "name": "stdout",
     "output_type": "stream",
     "text": [
      "[1, 2, 3, 5, 6, 7]\n"
     ]
    }
   ],
   "source": [
    "# concatenation\n",
    "#op = +\n",
    "#operands should be both list\n",
    "\n",
    "a = [1,2,3]\n",
    "b = [5,6,7]\n",
    "print(a+b)"
   ]
  },
  {
   "cell_type": "code",
   "execution_count": 17,
   "id": "24e1d8b6-ab3a-40b0-b941-cad97510ee90",
   "metadata": {},
   "outputs": [
    {
     "name": "stdout",
     "output_type": "stream",
     "text": [
      "[1, 2, 3, 4, 1, 2, 3, 4, 1, 2, 3, 4, 1, 2, 3, 4, 1, 2, 3, 4, 1, 2, 3, 4, 1, 2, 3, 4, 1, 2, 3, 4, 1, 2, 3, 4, 1, 2, 3, 4]\n"
     ]
    }
   ],
   "source": [
    "# repetition\n",
    "\n",
    "#op -*\n",
    "#operands - one should be int and other should be list\n",
    "\n",
    "a = [1,2,3,4]\n",
    "b = 10\n",
    "print(a*b)"
   ]
  },
  {
   "cell_type": "code",
   "execution_count": null,
   "id": "1684f33b-24c2-4214-a907-75472947bea8",
   "metadata": {},
   "outputs": [],
   "source": [
    "# memebership\n",
    "def --> it checks if the subseq is present or not in the sequence\n",
    "return value --> bool\n",
    "op --> in and not in"
   ]
  },
  {
   "cell_type": "code",
   "execution_count": 18,
   "id": "21c1cf5c-30e9-4b57-917d-8222b76aeddb",
   "metadata": {},
   "outputs": [
    {
     "name": "stdout",
     "output_type": "stream",
     "text": [
      "True\n"
     ]
    }
   ],
   "source": [
    "a = ['awantika', 'angel', 'khushi','disha']\n",
    "print('khushi' in a)"
   ]
  },
  {
   "cell_type": "code",
   "execution_count": 19,
   "id": "097a0d5b-c9c2-4ff5-864e-85bc1693af08",
   "metadata": {},
   "outputs": [
    {
     "name": "stdout",
     "output_type": "stream",
     "text": [
      "True\n"
     ]
    }
   ],
   "source": [
    "a = ['awantika', 'angel', 'khushi','disha']\n",
    "print('khushi'.replace('khushi', 'angel') in a)"
   ]
  },
  {
   "cell_type": "code",
   "execution_count": 21,
   "id": "0cd0bee3-82b9-439b-a163-9a01d7e28680",
   "metadata": {},
   "outputs": [
    {
     "name": "stdout",
     "output_type": "stream",
     "text": [
      "1899161675904\n",
      "1899161815808\n",
      "False\n"
     ]
    }
   ],
   "source": [
    "# identity \n",
    "# def --> it is used to compare  addresses of two variables\n",
    "# is and is not\n",
    "\n",
    "a = [1,2,3,4,5]\n",
    "print(id(a))\n",
    "b = [1,2,3,4,5]\n",
    "print(id(b))\n",
    "print(a is b)"
   ]
  },
  {
   "cell_type": "code",
   "execution_count": null,
   "id": "6394af08-6935-40de-9ef9-e154dc2c29b8",
   "metadata": {},
   "outputs": [],
   "source": [
    "# nested list --> list present in a list "
   ]
  },
  {
   "cell_type": "code",
   "execution_count": 24,
   "id": "fe16e2e9-243b-400c-9269-45f7fb31878a",
   "metadata": {},
   "outputs": [
    {
     "name": "stdout",
     "output_type": "stream",
     "text": [
      "nasfa\n"
     ]
    }
   ],
   "source": [
    "# write a nested query for this and print nasfa\n",
    "a = [1,2,3,4,5,['afsan',2,3,4,5]]\n",
    "print(a[-1][0][::-1])"
   ]
  },
  {
   "cell_type": "code",
   "execution_count": 28,
   "id": "2ee8b904-eb92-414b-bb45-299c8c20f86c",
   "metadata": {},
   "outputs": [
    {
     "name": "stdout",
     "output_type": "stream",
     "text": [
      "a\n"
     ]
    }
   ],
   "source": [
    "a = [[1,2,3],[4,5,6],[8,9,10,11,[12,['a','b',200]]]]\n",
    "print(a[-1][-1][-1][0])"
   ]
  },
  {
   "cell_type": "code",
   "execution_count": 36,
   "id": "0ad2589a-ccc6-403c-8688-ec9cd214a54c",
   "metadata": {},
   "outputs": [
    {
     "name": "stdout",
     "output_type": "stream",
     "text": [
      "etutitsni\n"
     ]
    }
   ],
   "source": [
    "a = [[1,2,3],[4,5,6],[8,9,[10, 'learnbay institute','football'],11,[12,['a','b',200]]]]\n",
    "print(a[-1][-3][-2][-1:-10:-1])"
   ]
  },
  {
   "cell_type": "code",
   "execution_count": 38,
   "id": "80d52383-4dd6-458c-a2e8-0811bf79f6e0",
   "metadata": {},
   "outputs": [
    {
     "name": "stdout",
     "output_type": "stream",
     "text": [
      "etutitsni\n"
     ]
    }
   ],
   "source": [
    "print(a[-1][-3][-2].split()[-1][::-1])"
   ]
  },
  {
   "cell_type": "code",
   "execution_count": 39,
   "id": "a10c8e33-34a7-4dd8-a8c1-dc907858f79d",
   "metadata": {},
   "outputs": [
    {
     "name": "stdout",
     "output_type": "stream",
     "text": [
      "['__add__', '__class__', '__class_getitem__', '__contains__', '__delattr__', '__delitem__', '__dir__', '__doc__', '__eq__', '__format__', '__ge__', '__getattribute__', '__getitem__', '__getstate__', '__gt__', '__hash__', '__iadd__', '__imul__', '__init__', '__init_subclass__', '__iter__', '__le__', '__len__', '__lt__', '__mul__', '__ne__', '__new__', '__reduce__', '__reduce_ex__', '__repr__', '__reversed__', '__rmul__', '__setattr__', '__setitem__', '__sizeof__', '__str__', '__subclasshook__', 'append', 'clear', 'copy', 'count', 'extend', 'index', 'insert', 'pop', 'remove', 'reverse', 'sort']\n"
     ]
    }
   ],
   "source": [
    "# methods\n",
    "print(dir(list))"
   ]
  },
  {
   "cell_type": "code",
   "execution_count": null,
   "id": "b26b7ef1-e370-42af-9859-e26f3638b097",
   "metadata": {},
   "outputs": [],
   "source": [
    "# methods to insert the elemnet inside a list\n",
    "1. append\n",
    "2. extend\n",
    "3. insert\n"
   ]
  },
  {
   "cell_type": "code",
   "execution_count": 45,
   "id": "fe7c5592-8b1d-4509-941f-91008fbfb4e1",
   "metadata": {},
   "outputs": [
    {
     "name": "stdout",
     "output_type": "stream",
     "text": [
      "None\n",
      "[10, 20, 30, 11]\n"
     ]
    }
   ],
   "source": [
    "a = [10,20,30]\n",
    "b = 11          \n",
    "print(a.append(b)) # append function will always return None.\n",
    "print(a)"
   ]
  },
  {
   "cell_type": "code",
   "execution_count": 47,
   "id": "cd45d6fa-05e2-467d-9ce5-86fb79242532",
   "metadata": {},
   "outputs": [
    {
     "name": "stdout",
     "output_type": "stream",
     "text": [
      "swsntiks\n"
     ]
    }
   ],
   "source": [
    "a = 'awantika'\n",
    "print(a.replace('a','s'))"
   ]
  },
  {
   "cell_type": "code",
   "execution_count": 51,
   "id": "7b1bcdf5-71dd-479a-9485-c4d3ff46cd5d",
   "metadata": {},
   "outputs": [
    {
     "name": "stdout",
     "output_type": "stream",
     "text": [
      "None\n",
      "[10, 20, 30, [1, 2, 3]]\n"
     ]
    }
   ],
   "source": [
    "a = [10,20,30]\n",
    "b = [1,2,3]\n",
    "print(a.append(b))\n",
    "print(a)"
   ]
  },
  {
   "cell_type": "code",
   "execution_count": 54,
   "id": "ed5db432-8b0f-498d-9ad3-da145e60f4e1",
   "metadata": {},
   "outputs": [
    {
     "name": "stdout",
     "output_type": "stream",
     "text": [
      "[10, 20, 30, [1, 2, 3], [1, 2, 3], [1, 2, 3]]\n"
     ]
    }
   ],
   "source": [
    "a.append(b)\n",
    "print(a)"
   ]
  },
  {
   "cell_type": "code",
   "execution_count": null,
   "id": "95f3ce49-4e79-4c5f-9b20-c4ca3940dfd8",
   "metadata": {},
   "outputs": [],
   "source": [
    "# extend \n",
    "#def --> extend add the elements it is similar to concatenation but one difference is that in concatenation it returns a new object whereas extend will make changeson object itself.\n",
    "#you can only use iterable objects. "
   ]
  },
  {
   "cell_type": "code",
   "execution_count": 55,
   "id": "c7763ad6-d136-4afa-92cb-62562224a060",
   "metadata": {},
   "outputs": [
    {
     "name": "stdout",
     "output_type": "stream",
     "text": [
      "[1, 2, 3, 4, 5, 6]\n"
     ]
    }
   ],
   "source": [
    "a = [1,2,3]\n",
    "b = [4,5,6]\n",
    "print(a+b)"
   ]
  },
  {
   "cell_type": "code",
   "execution_count": 69,
   "id": "21f9fd3a-bde3-45de-a69e-162402c59ab1",
   "metadata": {},
   "outputs": [
    {
     "name": "stdout",
     "output_type": "stream",
     "text": [
      "None\n",
      "[1, 2, 3, 'a', 'f', 's', 'a', 'n']\n"
     ]
    }
   ],
   "source": [
    "a = [1,2,3]\n",
    "b =[4,5,6]\n",
    "print(a.extend('afsan'))\n",
    "print(a)"
   ]
  },
  {
   "cell_type": "code",
   "execution_count": 64,
   "id": "8faad7bb-57d7-4a62-9574-517773d06a26",
   "metadata": {},
   "outputs": [
    {
     "name": "stdout",
     "output_type": "stream",
     "text": [
      "[1, 2, 3, 4, 5, 6, 'a', 'f', 's', 'a', 'n', 'a', 'f', 's', 'a', 'n', 'a', 'f', 's', 'a', 'n', 'a', 'f', 's', 'a', 'n']\n"
     ]
    }
   ],
   "source": [
    "a.extend('afsan')\n"
   ]
  },
  {
   "cell_type": "code",
   "execution_count": 66,
   "id": "fc3e3f31-6ebb-46c8-ae7a-617cbd1af437",
   "metadata": {},
   "outputs": [
    {
     "name": "stdout",
     "output_type": "stream",
     "text": [
      "[1, 2, 3, 4, 5, 6, 'a', 'f', 's', 'a', 'n', 'a', 'f', 's', 'a', 'n', 'a', 'f', 's', 'a', 'n', 'a', 'f', 's', 'a', 'n', 'a', 'f', 's', 'a', 'n', 'a', 'f', 's', 'a', 'n']\n"
     ]
    }
   ],
   "source": [
    "a.extend('afsan')\n",
    "print(a)"
   ]
  },
  {
   "cell_type": "code",
   "execution_count": 71,
   "id": "52d7ca6a-5690-49fc-986d-76a95b43b84b",
   "metadata": {},
   "outputs": [
    {
     "name": "stdout",
     "output_type": "stream",
     "text": [
      "None\n",
      "[1, 2, 3, 4, 5, 6]\n"
     ]
    }
   ],
   "source": [
    "a = [1,2,3]\n",
    "b = [4,5,6]\n",
    "print(a.extend(b))\n",
    "print(a)"
   ]
  },
  {
   "cell_type": "code",
   "execution_count": null,
   "id": "ff7c2b7f-116a-44be-a266-fb27af90a8d7",
   "metadata": {},
   "outputs": [],
   "source": [
    "# insert \n",
    "#it insert the value at a particular index only ione element will be inserted at a time\n",
    "#syntax    var.insert(index,ele)"
   ]
  },
  {
   "cell_type": "code",
   "execution_count": 74,
   "id": "a42c23de-5642-4bb0-a3f2-d17a6ed507be",
   "metadata": {},
   "outputs": [
    {
     "name": "stdout",
     "output_type": "stream",
     "text": [
      "None\n",
      "[1, 'awantika', 2, 3, 4]\n"
     ]
    }
   ],
   "source": [
    "a = [1,2,3,4]\n",
    "print(a.insert(1, 'awantika'))\n",
    "print(a)"
   ]
  },
  {
   "cell_type": "code",
   "execution_count": null,
   "id": "daa3c26d-89f3-4bd0-873f-8b3cc0ac1477",
   "metadata": {},
   "outputs": [],
   "source": [
    "# methods to remove element from the list \n",
    "1. pop\n",
    "2. popitem\n"
   ]
  },
  {
   "cell_type": "code",
   "execution_count": 75,
   "id": "d76b6a28-9772-43d2-9b6e-55d1f8d42c2a",
   "metadata": {},
   "outputs": [
    {
     "name": "stdout",
     "output_type": "stream",
     "text": [
      "4\n"
     ]
    }
   ],
   "source": [
    "a = [1,2,3,4]\n",
    "print(a.pop(-1))"
   ]
  },
  {
   "cell_type": "code",
   "execution_count": 76,
   "id": "26b1e611-ade1-4043-b62e-41a2385392f5",
   "metadata": {},
   "outputs": [
    {
     "name": "stdout",
     "output_type": "stream",
     "text": [
      "[1, 2, 3]\n"
     ]
    }
   ],
   "source": [
    "print(a)"
   ]
  },
  {
   "cell_type": "code",
   "execution_count": 77,
   "id": "5c4ad01b-0d51-4637-9d5a-0f05d2eee939",
   "metadata": {},
   "outputs": [
    {
     "data": {
      "text/plain": [
       "1"
      ]
     },
     "execution_count": 77,
     "metadata": {},
     "output_type": "execute_result"
    }
   ],
   "source": [
    "a.pop(0)"
   ]
  },
  {
   "cell_type": "code",
   "execution_count": 78,
   "id": "beaf1f70-4e84-4d58-b57d-f6192ff3f37e",
   "metadata": {},
   "outputs": [
    {
     "data": {
      "text/plain": [
       "[2, 3]"
      ]
     },
     "execution_count": 78,
     "metadata": {},
     "output_type": "execute_result"
    }
   ],
   "source": [
    "a"
   ]
  },
  {
   "cell_type": "code",
   "execution_count": 79,
   "id": "27737f41-6b9e-44d6-bbe4-ca5281f499fd",
   "metadata": {},
   "outputs": [
    {
     "data": {
      "text/plain": [
       "3"
      ]
     },
     "execution_count": 79,
     "metadata": {},
     "output_type": "execute_result"
    }
   ],
   "source": [
    "a.pop() #if nothing is given as an index then it removes element from behind."
   ]
  },
  {
   "cell_type": "code",
   "execution_count": 80,
   "id": "9291e341-2149-4050-9265-f1de04050f55",
   "metadata": {},
   "outputs": [
    {
     "data": {
      "text/plain": [
       "[2]"
      ]
     },
     "execution_count": 80,
     "metadata": {},
     "output_type": "execute_result"
    }
   ],
   "source": [
    "a"
   ]
  },
  {
   "cell_type": "code",
   "execution_count": 85,
   "id": "a11bcf8d-ba1a-4f5b-972b-507fc71dc091",
   "metadata": {},
   "outputs": [
    {
     "name": "stdout",
     "output_type": "stream",
     "text": [
      "None\n"
     ]
    }
   ],
   "source": [
    "# remove\n",
    "a = [10,20,10,20,30,40]\n",
    "print(a.remove(10))"
   ]
  },
  {
   "cell_type": "code",
   "execution_count": 86,
   "id": "58bef975-8d7d-4d6b-ab6b-a3580ddb33b6",
   "metadata": {},
   "outputs": [
    {
     "data": {
      "text/plain": [
       "[20, 10, 20, 30, 40]"
      ]
     },
     "execution_count": 86,
     "metadata": {},
     "output_type": "execute_result"
    }
   ],
   "source": [
    "a"
   ]
  },
  {
   "cell_type": "code",
   "execution_count": 87,
   "id": "0a64bd6d-d59e-4123-bcf4-394800b225ca",
   "metadata": {},
   "outputs": [
    {
     "name": "stdout",
     "output_type": "stream",
     "text": [
      "4\n"
     ]
    }
   ],
   "source": [
    "# count \n",
    "a = [10,20,20,30,10,10,10]\n",
    "print(a.count(10))"
   ]
  },
  {
   "cell_type": "code",
   "execution_count": 88,
   "id": "90396677-8a59-487c-ba5f-db8b8bb36751",
   "metadata": {},
   "outputs": [
    {
     "name": "stdout",
     "output_type": "stream",
     "text": [
      "0\n"
     ]
    }
   ],
   "source": [
    "#index\n",
    "a = [10,20,30,40,50]\n",
    "print(a.index(10))"
   ]
  }
 ],
 "metadata": {
  "kernelspec": {
   "display_name": "Python 3 (ipykernel)",
   "language": "python",
   "name": "python3"
  },
  "language_info": {
   "codemirror_mode": {
    "name": "ipython",
    "version": 3
   },
   "file_extension": ".py",
   "mimetype": "text/x-python",
   "name": "python",
   "nbconvert_exporter": "python",
   "pygments_lexer": "ipython3",
   "version": "3.12.8"
  }
 },
 "nbformat": 4,
 "nbformat_minor": 5
}
