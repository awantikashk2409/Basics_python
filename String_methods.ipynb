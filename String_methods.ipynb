{
 "cells": [
  {
   "cell_type": "code",
   "execution_count": 4,
   "id": "6fe7e36c-58c2-43af-a01f-3d61808349c1",
   "metadata": {},
   "outputs": [
    {
     "name": "stdout",
     "output_type": "stream",
     "text": [
      "This is python class\n",
      "This is phython class\n"
     ]
    }
   ],
   "source": [
    "str2 = \"this is python class\"\n",
    "s1 = \"THIS is PHYTHON class\"\n",
    "print(str2.capitalize())\n",
    "print(s1.capitalize())"
   ]
  },
  {
   "cell_type": "code",
   "execution_count": 6,
   "id": "105a568a-07c6-492c-a66e-f7e0f9d6dc65",
   "metadata": {},
   "outputs": [
    {
     "name": "stdout",
     "output_type": "stream",
     "text": [
      "this is python class\n"
     ]
    }
   ],
   "source": [
    "print(str2.lower())"
   ]
  },
  {
   "cell_type": "code",
   "execution_count": 7,
   "id": "142b5ec5-c4ad-4d15-b04f-e6c5d7baa4b3",
   "metadata": {},
   "outputs": [
    {
     "name": "stdout",
     "output_type": "stream",
     "text": [
      "THIS IS PHYTHON CLASS\n"
     ]
    }
   ],
   "source": [
    "print(s1.upper())"
   ]
  },
  {
   "cell_type": "code",
   "execution_count": 8,
   "id": "0a2c98ff-558c-4cb9-90bb-35947fc72b87",
   "metadata": {},
   "outputs": [
    {
     "name": "stdout",
     "output_type": "stream",
     "text": [
      "this IS phython CLASS\n"
     ]
    }
   ],
   "source": [
    "print(s1.swapcase())"
   ]
  },
  {
   "cell_type": "code",
   "execution_count": 9,
   "id": "2b08603e-d74f-4860-936f-0d4c166ae5dd",
   "metadata": {},
   "outputs": [
    {
     "data": {
      "text/plain": [
       "'This Is Phython Class'"
      ]
     },
     "execution_count": 9,
     "metadata": {},
     "output_type": "execute_result"
    }
   ],
   "source": [
    "s1.title()"
   ]
  },
  {
   "cell_type": "code",
   "execution_count": 11,
   "id": "c35733fd-078e-4986-aea6-8f98c8df6692",
   "metadata": {},
   "outputs": [
    {
     "data": {
      "text/plain": [
       "False"
      ]
     },
     "execution_count": 11,
     "metadata": {},
     "output_type": "execute_result"
    }
   ],
   "source": [
    "s1.isspace()"
   ]
  },
  {
   "cell_type": "code",
   "execution_count": 19,
   "id": "df82435d-dbb7-48a6-8a79-5256caf2352c",
   "metadata": {},
   "outputs": [
    {
     "name": "stdout",
     "output_type": "stream",
     "text": [
      "True\n"
     ]
    }
   ],
   "source": [
    "# methods which return bool values\n",
    "#startswith\n",
    "s = \"hello world\"\n",
    "print(s.startswith(\"o\",4,10))"
   ]
  },
  {
   "cell_type": "code",
   "execution_count": 21,
   "id": "e2f0eb20-9bab-45a3-893b-4625bdf5a722",
   "metadata": {},
   "outputs": [
    {
     "name": "stdout",
     "output_type": "stream",
     "text": [
      "True\n"
     ]
    }
   ],
   "source": [
    "#endswith return bool value if it ends with the specific suffix otherwise false\n",
    "\n",
    "s = 'hello world'\n",
    "print(s.endswith(\"ld\"))"
   ]
  },
  {
   "cell_type": "code",
   "execution_count": 25,
   "id": "71dc1808-5b95-4e18-8811-40a47242803c",
   "metadata": {},
   "outputs": [
    {
     "name": "stdout",
     "output_type": "stream",
     "text": [
      "True\n"
     ]
    }
   ],
   "source": [
    "s =  'awantika srivastava'\n",
    "print(s.endswith('ti',4,6))"
   ]
  },
  {
   "cell_type": "code",
   "execution_count": 26,
   "id": "be091025-f4a0-4bf5-83e8-eaa191b93de8",
   "metadata": {},
   "outputs": [
    {
     "name": "stdout",
     "output_type": "stream",
     "text": [
      "True\n",
      "True\n",
      "True\n",
      "False\n"
     ]
    }
   ],
   "source": [
    "# isalnum return true value it has alphabets, alphanumeric, numeric\n",
    "\n",
    "s1 = 'abc'\n",
    "s2 = 'abc123'\n",
    "s3 = '1234'\n",
    "s4 = '*'\n",
    "print(s1.isalnum())\n",
    "print(s2.isalnum())\n",
    "print(s3.isalnum())\n",
    "print(s4.isalnum())\n"
   ]
  },
  {
   "cell_type": "code",
   "execution_count": 27,
   "id": "7444ff3c-134b-47b1-a090-96aa7fad734c",
   "metadata": {},
   "outputs": [
    {
     "name": "stdout",
     "output_type": "stream",
     "text": [
      "True\n",
      "False\n",
      "False\n",
      "False\n"
     ]
    }
   ],
   "source": [
    "# isalpha return true if all char are alpha\n",
    "s1 = 'abc'\n",
    "s2 = 'abc123'\n",
    "s3 = '1234'\n",
    "s4 = '*'\n",
    "print(s1.isalpha())\n",
    "print(s2.isalpha())\n",
    "print(s3.isalpha())\n",
    "print(s4.isalpha())"
   ]
  },
  {
   "cell_type": "code",
   "execution_count": 28,
   "id": "aa9b7d2e-0eba-40b6-9f53-952283a30db7",
   "metadata": {},
   "outputs": [
    {
     "name": "stdout",
     "output_type": "stream",
     "text": [
      "False\n",
      "False\n",
      "True\n",
      "False\n"
     ]
    }
   ],
   "source": [
    "s1 = 'abc'\n",
    "s2 = 'abc123'\n",
    "s3 = '1234'\n",
    "s4 = '*'\n",
    "print(s1.isnumeric())\n",
    "print(s2.isnumeric())\n",
    "print(s3.isnumeric())\n",
    "print(s4.isnumeric())"
   ]
  },
  {
   "cell_type": "code",
   "execution_count": 30,
   "id": "25480bec-1ca1-482b-b36e-7f2acec20c82",
   "metadata": {},
   "outputs": [
    {
     "name": "stdout",
     "output_type": "stream",
     "text": [
      "True\n",
      "True\n",
      "False\n",
      "False\n"
     ]
    }
   ],
   "source": [
    "# isindentifier \n",
    "s1 = 'abc'\n",
    "s2 = 'abc1'\n",
    "s3 = '1234'\n",
    "s4 = '*'\n",
    "print(s1.isidentifier())\n",
    "print(s2.isidentifier())\n",
    "print(s3.isidentifier())\n",
    "print(s4.isidentifier())"
   ]
  },
  {
   "cell_type": "code",
   "execution_count": 33,
   "id": "279a1d20-161a-4541-b0ca-002ef9cd9a8f",
   "metadata": {},
   "outputs": [
    {
     "name": "stdout",
     "output_type": "stream",
     "text": [
      "True\n",
      "True\n",
      "True\n",
      "True\n",
      "True\n"
     ]
    }
   ],
   "source": [
    "# isascii return true if all char are in ascii table\n",
    "s1 = 'abc'\n",
    "s2 = 'abc1'\n",
    "s3 = '1234'\n",
    "s4 = '*'\n",
    "s5 = 'a:s'\n",
    "print(s1.isascii())\n",
    "print(s2.isascii())\n",
    "print(s3.isascii())\n",
    "print(s4.isascii())\n",
    "print(s5.isascii())"
   ]
  },
  {
   "cell_type": "code",
   "execution_count": 37,
   "id": "4b17cae1-76c6-40a5-a82e-106b91a17fc8",
   "metadata": {},
   "outputs": [
    {
     "name": "stdout",
     "output_type": "stream",
     "text": [
      "False\n",
      "True\n",
      "False\n",
      "False\n",
      "True\n",
      "False\n",
      "False\n",
      "False\n",
      "False\n",
      "False\n",
      "False\n",
      "False\n"
     ]
    }
   ],
   "source": [
    "#isuppper return true if all the char are in uppercase\n",
    "\n",
    "\n",
    "s1 = 'abc'\n",
    "s2 = 'ABC'\n",
    "s3 = '1234'\n",
    "s4 = '*'\n",
    "print(s1.isupper())\n",
    "print(s2.isupper())\n",
    "print(s3.isupper())\n",
    "print(s4.isupper())\n",
    "\n",
    "print(s1.islower())\n",
    "print(s2.islower())\n",
    "print(s3.islower())\n",
    "print(s4.islower())\n",
    "\n",
    "print(s1.istitle())\n",
    "print(s2.istitle())\n",
    "print(s3.istitle())\n",
    "print(s4.istitle())"
   ]
  },
  {
   "cell_type": "code",
   "execution_count": 38,
   "id": "4200e48e-d1c6-482d-9720-3df05c4c354a",
   "metadata": {},
   "outputs": [
    {
     "name": "stdout",
     "output_type": "stream",
     "text": [
      "python\n"
     ]
    }
   ],
   "source": [
    "# strip , rstrip,lstrip\n",
    "# strip --> it removes specified char from both the ends.\n",
    "\n",
    "s1 = '  python   '\n",
    "print(s1.strip()) // default value as nothing in bracket to remove space"
   ]
  },
  {
   "cell_type": "code",
   "execution_count": 40,
   "id": "1d7a598c-c940-4771-ad1e-d4c02683f73b",
   "metadata": {},
   "outputs": [
    {
     "name": "stdout",
     "output_type": "stream",
     "text": [
      "python\n"
     ]
    }
   ],
   "source": [
    "s2 = '###python###'\n",
    "print(s2.strip('#'))"
   ]
  },
  {
   "cell_type": "code",
   "execution_count": 41,
   "id": "8afc6b03-6569-436d-97fb-0128f4ddde86",
   "metadata": {},
   "outputs": [
    {
     "name": "stdout",
     "output_type": "stream",
     "text": [
      "$$$python\n"
     ]
    }
   ],
   "source": [
    "# rstrip --> removes specified char from its right end.\n",
    "\n",
    "s1 = '$$$python$$$'\n",
    "print(s1.rstrip('$'))"
   ]
  },
  {
   "cell_type": "code",
   "execution_count": 42,
   "id": "e7476bcc-e286-411a-85b9-081e2373dc58",
   "metadata": {},
   "outputs": [
    {
     "name": "stdout",
     "output_type": "stream",
     "text": [
      "python$$$\n"
     ]
    }
   ],
   "source": [
    "#lstrip --> removes specified char from its left ends.\n",
    "\n",
    "\n",
    "s1 = '$$$python$$$'\n",
    "print(s1.lstrip('$'))\n"
   ]
  },
  {
   "cell_type": "code",
   "execution_count": 43,
   "id": "1b2db512-e03c-4d38-8ba9-ceec4282c8a2",
   "metadata": {},
   "outputs": [
    {
     "name": "stdout",
     "output_type": "stream",
     "text": [
      "python\n"
     ]
    }
   ],
   "source": [
    "s1 = '$$$python###'\n",
    "print(s1.strip('$#'))"
   ]
  },
  {
   "cell_type": "code",
   "execution_count": null,
   "id": "7b427b89-dfc7-47a2-b8db-bf4f740a2ff1",
   "metadata": {},
   "outputs": [],
   "source": []
  }
 ],
 "metadata": {
  "kernelspec": {
   "display_name": "Python [conda env:base] *",
   "language": "python",
   "name": "conda-base-py"
  },
  "language_info": {
   "codemirror_mode": {
    "name": "ipython",
    "version": 3
   },
   "file_extension": ".py",
   "mimetype": "text/x-python",
   "name": "python",
   "nbconvert_exporter": "python",
   "pygments_lexer": "ipython3",
   "version": "3.13.5"
  }
 },
 "nbformat": 4,
 "nbformat_minor": 5
}
