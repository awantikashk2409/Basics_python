{
 "cells": [
  {
   "cell_type": "code",
   "execution_count": null,
   "id": "3d39c934-1620-41d0-a506-d869a8a17ea8",
   "metadata": {},
   "outputs": [],
   "source": [
    "# enumerate"
   ]
  },
  {
   "cell_type": "code",
   "execution_count": 1,
   "id": "a8bea9fe-6c70-4a30-b504-f0c18f286086",
   "metadata": {},
   "outputs": [
    {
     "data": {
      "text/plain": [
       "[(0, 1), (1, 2), (2, 3), (3, 4)]"
      ]
     },
     "execution_count": 1,
     "metadata": {},
     "output_type": "execute_result"
    }
   ],
   "source": [
    "list(enumerate([1,2,3,4]))"
   ]
  },
  {
   "cell_type": "code",
   "execution_count": 2,
   "id": "e7d8cf40-4bd7-4ae7-b293-e31060742efc",
   "metadata": {},
   "outputs": [
    {
     "data": {
      "text/plain": [
       "[(2, 1), (3, 2), (4, 3), (5, 45)]"
      ]
     },
     "execution_count": 2,
     "metadata": {},
     "output_type": "execute_result"
    }
   ],
   "source": [
    "list(enumerate([1,2,3,45],2))"
   ]
  },
  {
   "cell_type": "code",
   "execution_count": 3,
   "id": "e88ebd7b-2f50-4b58-9dfe-1df7e5901ab4",
   "metadata": {},
   "outputs": [
    {
     "name": "stdout",
     "output_type": "stream",
     "text": [
      "0\n",
      "1\n",
      "6\n",
      "8\n"
     ]
    }
   ],
   "source": [
    "a = [1,1,2,3,4,5,1,2,1]\n",
    "for i,ele in enumerate(a):\n",
    "    if ele == 1:\n",
    "        print(i)"
   ]
  },
  {
   "cell_type": "code",
   "execution_count": null,
   "id": "6f8beb20-0e90-43d4-b3e0-2f47eb26f4ff",
   "metadata": {},
   "outputs": [],
   "source": [
    "for iteration 1 i,ele=> (0,1)"
   ]
  },
  {
   "cell_type": "code",
   "execution_count": null,
   "id": "a149e9f7-e4c1-4cce-abc4-da740e934e6f",
   "metadata": {},
   "outputs": [],
   "source": [
    "# iterator object\n",
    "from iterable object we can create iterator object\n",
    "-for loops"
   ]
  },
  {
   "cell_type": "code",
   "execution_count": 4,
   "id": "92e80b4f-12a5-4c69-b3a8-7fc2be79c67c",
   "metadata": {},
   "outputs": [
    {
     "name": "stdout",
     "output_type": "stream",
     "text": [
      "[1, 2, 3, 4, 5, 6]\n"
     ]
    }
   ],
   "source": [
    "a = [1,2,3,4,5,6]\n",
    "\n",
    "my_iter = iter(a)\n",
    "print(a)"
   ]
  },
  {
   "cell_type": "code",
   "execution_count": 8,
   "id": "85cc36b6-9e16-4553-8915-35055c2088e1",
   "metadata": {},
   "outputs": [
    {
     "data": {
      "text/plain": [
       "4"
      ]
     },
     "execution_count": 8,
     "metadata": {},
     "output_type": "execute_result"
    }
   ],
   "source": [
    "next(my_iter)"
   ]
  },
  {
   "cell_type": "code",
   "execution_count": 9,
   "id": "cded72c4-e4bb-4b89-b37f-710999f800ea",
   "metadata": {},
   "outputs": [
    {
     "name": "stdout",
     "output_type": "stream",
     "text": [
      "0\n",
      "1\n",
      "2\n",
      "3\n",
      "4\n"
     ]
    }
   ],
   "source": [
    "for i in range(0,5):\n",
    "    print(i)"
   ]
  },
  {
   "cell_type": "code",
   "execution_count": null,
   "id": "4b3a30b5-d5df-4833-bd6a-17b95fdef2c2",
   "metadata": {},
   "outputs": [],
   "source": [
    "# Modules\n",
    "A python file with extension .py is called module\n",
    "\n",
    "# Types of module\n",
    "1.) Inbuilt module - maths,sys,os,datetime\n",
    "2.) User defined module - any function defined by user"
   ]
  },
  {
   "cell_type": "code",
   "execution_count": 5,
   "id": "d7da69fa-c203-485c-ad12-dd51f484be5c",
   "metadata": {},
   "outputs": [
    {
     "name": "stdout",
     "output_type": "stream",
     "text": [
      "['In', 'Out', '_', '_2', '_3', '_4', '_5', '__', '___', '__builtin__', '__builtins__', '__doc__', '__loader__', '__name__', '__package__', '__pandas', '__session__', '__spec__', '_dh', '_i', '_i1', '_i2', '_i3', '_i4', '_i5', '_ih', '_ii', '_iii', '_oh', 'dataframe_columns', 'dataframe_hash', 'dtypes_str', 'exit', 'get_dataframes', 'get_ipython', 'getpass', 'hashlib', 'import_pandas_safely', 'is_data_frame', 'json', 'my_module', 'open', 'quit']\n"
     ]
    }
   ],
   "source": [
    "print(dir())"
   ]
  },
  {
   "cell_type": "code",
   "execution_count": 1,
   "id": "168937b3-9f89-4ff0-92bf-6ac11c1d5722",
   "metadata": {},
   "outputs": [],
   "source": [
    "import my_module"
   ]
  },
  {
   "cell_type": "code",
   "execution_count": 9,
   "id": "895e16b1-eef4-4584-bfd0-fc00952e8ae1",
   "metadata": {},
   "outputs": [
    {
     "data": {
      "text/plain": [
       "['__builtins__',\n",
       " '__cached__',\n",
       " '__doc__',\n",
       " '__file__',\n",
       " '__loader__',\n",
       " '__name__',\n",
       " '__package__',\n",
       " '__spec__',\n",
       " 'add',\n",
       " 'palindrome',\n",
       " 'pi',\n",
       " 'sqrt']"
      ]
     },
     "execution_count": 9,
     "metadata": {},
     "output_type": "execute_result"
    }
   ],
   "source": [
    "dir(my_module)"
   ]
  },
  {
   "cell_type": "code",
   "execution_count": 11,
   "id": "43436778-4c80-474d-ba91-087f13b5709d",
   "metadata": {},
   "outputs": [
    {
     "name": "stdout",
     "output_type": "stream",
     "text": [
      "palindrome\n"
     ]
    }
   ],
   "source": [
    "my_module.palindrome(\"mam\")"
   ]
  },
  {
   "cell_type": "code",
   "execution_count": 12,
   "id": "877c4036-191e-4a44-a265-3efc1199033c",
   "metadata": {},
   "outputs": [],
   "source": [
    "from my_module import sqrt\n"
   ]
  },
  {
   "cell_type": "code",
   "execution_count": 13,
   "id": "0c8b4d07-ae34-4dc8-8f67-d76de71c5938",
   "metadata": {},
   "outputs": [
    {
     "data": {
      "text/plain": [
       "3.1622776601683795"
      ]
     },
     "execution_count": 13,
     "metadata": {},
     "output_type": "execute_result"
    }
   ],
   "source": [
    "sqrt(10)"
   ]
  },
  {
   "cell_type": "code",
   "execution_count": 14,
   "id": "8e1929c9-9ce4-47cb-b068-7924b0c8d77a",
   "metadata": {},
   "outputs": [
    {
     "data": {
      "text/plain": [
       "['C:\\\\Users\\\\sawan\\\\anaconda3\\\\python313.zip',\n",
       " 'C:\\\\Users\\\\sawan\\\\anaconda3\\\\DLLs',\n",
       " 'C:\\\\Users\\\\sawan\\\\anaconda3\\\\Lib',\n",
       " 'C:\\\\Users\\\\sawan\\\\anaconda3',\n",
       " '',\n",
       " 'C:\\\\Users\\\\sawan\\\\anaconda3\\\\Lib\\\\site-packages',\n",
       " 'C:\\\\Users\\\\sawan\\\\anaconda3\\\\Lib\\\\site-packages\\\\win32',\n",
       " 'C:\\\\Users\\\\sawan\\\\anaconda3\\\\Lib\\\\site-packages\\\\win32\\\\lib',\n",
       " 'C:\\\\Users\\\\sawan\\\\anaconda3\\\\Lib\\\\site-packages\\\\Pythonwin']"
      ]
     },
     "execution_count": 14,
     "metadata": {},
     "output_type": "execute_result"
    }
   ],
   "source": [
    "import sys\n",
    "sys.path"
   ]
  },
  {
   "cell_type": "code",
   "execution_count": null,
   "id": "e48c4219-481e-41a5-bf6e-540cc095ba73",
   "metadata": {},
   "outputs": [],
   "source": [
    "# What are the uses of creating user defined module\n",
    "\n",
    "1. Customization\n",
    "2. Code reduction\n",
    "3. Modular structure"
   ]
  }
 ],
 "metadata": {
  "kernelspec": {
   "display_name": "Python [conda env:base] *",
   "language": "python",
   "name": "conda-base-py"
  },
  "language_info": {
   "codemirror_mode": {
    "name": "ipython",
    "version": 3
   },
   "file_extension": ".py",
   "mimetype": "text/x-python",
   "name": "python",
   "nbconvert_exporter": "python",
   "pygments_lexer": "ipython3",
   "version": "3.13.5"
  }
 },
 "nbformat": 4,
 "nbformat_minor": 5
}
