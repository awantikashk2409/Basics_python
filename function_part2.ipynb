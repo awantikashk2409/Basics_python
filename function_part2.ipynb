{
 "cells": [
  {
   "cell_type": "code",
   "execution_count": null,
   "id": "b5ace508-56cf-46bd-b64d-62a5046a5491",
   "metadata": {},
   "outputs": [],
   "source": [
    "# what is a recursive funcion . explain with the program\n",
    "\n",
    "--- function calling itself is called a recursive function"
   ]
  },
  {
   "cell_type": "code",
   "execution_count": 3,
   "id": "cceff54f-9f15-4b3e-977b-e65d669e0693",
   "metadata": {},
   "outputs": [],
   "source": [
    "# factorial\n",
    "def fact(num):\n",
    "    if(num==0):\n",
    "        return 1\n",
    "    else:\n",
    "        return num*fact(num-1)"
   ]
  },
  {
   "cell_type": "code",
   "execution_count": 4,
   "id": "e62f659b-1e57-4911-899e-2a2ee6b4ac53",
   "metadata": {},
   "outputs": [
    {
     "data": {
      "text/plain": [
       "120"
      ]
     },
     "execution_count": 4,
     "metadata": {},
     "output_type": "execute_result"
    }
   ],
   "source": [
    "fact(5)"
   ]
  },
  {
   "cell_type": "code",
   "execution_count": 5,
   "id": "8719ea8b-bbe5-4a7e-91eb-fb89524c341e",
   "metadata": {},
   "outputs": [
    {
     "data": {
      "text/plain": [
       "5040"
      ]
     },
     "execution_count": 5,
     "metadata": {},
     "output_type": "execute_result"
    }
   ],
   "source": [
    "fact(7)"
   ]
  },
  {
   "cell_type": "code",
   "execution_count": 11,
   "id": "1624c6b8-f953-4230-8079-43468a19c613",
   "metadata": {},
   "outputs": [
    {
     "name": "stdout",
     "output_type": "stream",
     "text": [
      "0 1 1 2 3 5 8 13 21 34 "
     ]
    }
   ],
   "source": [
    "# use a recursive function in fibonacci series\n",
    "def fibo(n):\n",
    "    if n == 0:\n",
    "        return 0\n",
    "    elif n == 1:\n",
    "        return 1\n",
    "    else:\n",
    "        return fibo(n-1) + fibo(n-2)\n",
    "\n",
    "# print first k terms of Fibonacci series\n",
    "def fibo_series(k):\n",
    "    for i in range(k):\n",
    "        print(fibo(i), end = \" \")\n",
    "\n",
    "# Example: first 10 terms\n",
    "fibo_series(10)"
   ]
  },
  {
   "cell_type": "code",
   "execution_count": null,
   "id": "34995450-31bc-4dd2-937f-a164e884f993",
   "metadata": {},
   "outputs": [],
   "source": [
    "# anonymous function(function without a name) - lambda function\n",
    "1.) It is a small anonymous function\n",
    "2.) it can take any number of arguments, but can only have one expression.\n",
    "    syntax --> lambda args: expression"
   ]
  },
  {
   "cell_type": "code",
   "execution_count": 14,
   "id": "c3c2f36d-a434-4082-aafb-d1427864e17b",
   "metadata": {},
   "outputs": [
    {
     "data": {
      "text/plain": [
       "30"
      ]
     },
     "execution_count": 14,
     "metadata": {},
     "output_type": "execute_result"
    }
   ],
   "source": [
    " x = lambda a,b : a+b\n",
    " x(10,20)"
   ]
  },
  {
   "cell_type": "code",
   "execution_count": 17,
   "id": "a1f45e77-5620-4d95-84c8-f1b65d139145",
   "metadata": {},
   "outputs": [],
   "source": [
    "# write a function for odd and even number\n",
    "def check(num):\n",
    "    if num%2==0:\n",
    "        return 'even'\n",
    "    else:\n",
    "        return 'odd'"
   ]
  },
  {
   "cell_type": "code",
   "execution_count": 19,
   "id": "cfb0c77c-ed99-47d4-8da6-578919890975",
   "metadata": {},
   "outputs": [
    {
     "data": {
      "text/plain": [
       "'even'"
      ]
     },
     "execution_count": 19,
     "metadata": {},
     "output_type": "execute_result"
    }
   ],
   "source": [
    "check(6)"
   ]
  },
  {
   "cell_type": "code",
   "execution_count": 23,
   "id": "feafe13e-6e53-4a89-8b60-46b347c27d22",
   "metadata": {},
   "outputs": [],
   "source": [
    "check = lambda num : 'even' if num%2==0 else 'odd'"
   ]
  },
  {
   "cell_type": "code",
   "execution_count": 26,
   "id": "33f8907b-663e-432d-82da-01716ab2e953",
   "metadata": {},
   "outputs": [
    {
     "data": {
      "text/plain": [
       "'even'"
      ]
     },
     "execution_count": 26,
     "metadata": {},
     "output_type": "execute_result"
    }
   ],
   "source": [
    "check(10)"
   ]
  },
  {
   "cell_type": "code",
   "execution_count": 33,
   "id": "49eb5784-a90f-4ec4-991f-2c78bf7694e1",
   "metadata": {},
   "outputs": [
    {
     "name": "stdout",
     "output_type": "stream",
     "text": [
      "10\n",
      "20\n",
      "30\n"
     ]
    }
   ],
   "source": [
    "\n",
    "# global variable :- which is define outside the function\n",
    "a = 10\n",
    "b = 20\n",
    "c = None\n",
    "def abc():\n",
    "    global c\n",
    "    c = a+b # local variable :- which is define inside the function   \n",
    "abc()\n",
    "print(a)\n",
    "print(b)\n",
    "print(c)"
   ]
  }
 ],
 "metadata": {
  "kernelspec": {
   "display_name": "Python 3 (ipykernel)",
   "language": "python",
   "name": "python3"
  },
  "language_info": {
   "codemirror_mode": {
    "name": "ipython",
    "version": 3
   },
   "file_extension": ".py",
   "mimetype": "text/x-python",
   "name": "python",
   "nbconvert_exporter": "python",
   "pygments_lexer": "ipython3",
   "version": "3.12.8"
  }
 },
 "nbformat": 4,
 "nbformat_minor": 5
}
