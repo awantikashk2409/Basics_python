{
 "cells": [
  {
   "cell_type": "code",
   "execution_count": 2,
   "id": "60c3d18a-3e48-4702-988a-ae8bbee24c23",
   "metadata": {},
   "outputs": [
    {
     "name": "stdout",
     "output_type": "stream",
     "text": [
      "[7, 6, 5, 4, 3, 2, 1]\n"
     ]
    }
   ],
   "source": [
    "# reverse\n",
    "a = [1,2,3,4,5,6,7]\n",
    "a.reverse()\n",
    "print(a)"
   ]
  },
  {
   "cell_type": "code",
   "execution_count": 4,
   "id": "5c5224a4-688a-42b8-9afc-f243e899803b",
   "metadata": {},
   "outputs": [
    {
     "name": "stdout",
     "output_type": "stream",
     "text": [
      "[1, 2, 3, 4, 5, 6]\n"
     ]
    }
   ],
   "source": [
    "#sort\n",
    "a = [1,2,3,4,5,6]\n",
    "a.sort()\n",
    "print(a)"
   ]
  },
  {
   "cell_type": "code",
   "execution_count": 5,
   "id": "b9813dd5-ca54-4ddf-ae3c-61ff6d9291fc",
   "metadata": {},
   "outputs": [
    {
     "name": "stdout",
     "output_type": "stream",
     "text": [
      "[6, 5, 4, 3, 2, 1]\n"
     ]
    }
   ],
   "source": [
    "a = [1,2,3,4,5,6]\n",
    "a.sort(reverse = True)\n",
    "print(a)"
   ]
  },
  {
   "cell_type": "code",
   "execution_count": 6,
   "id": "ee65c6be-1145-405c-b12b-4cef7769cb78",
   "metadata": {},
   "outputs": [
    {
     "name": "stdout",
     "output_type": "stream",
     "text": [
      "[]\n"
     ]
    }
   ],
   "source": [
    "# clear it clears the element in the list\n",
    "a = [1,2,3,4,5,6]\n",
    "a.clear()\n",
    "print(a)"
   ]
  },
  {
   "cell_type": "code",
   "execution_count": 9,
   "id": "4be797b6-0627-4c0b-a118-7aee59fefd74",
   "metadata": {},
   "outputs": [
    {
     "name": "stdout",
     "output_type": "stream",
     "text": [
      "2123642361856\n",
      "[1, 2, 3, 4, 5] 2123642361856\n"
     ]
    }
   ],
   "source": [
    "# shallow and deep copy\n",
    "a = [1,2,3,4,5]\n",
    "print(id(a))\n",
    "b = a #aliasing\n",
    "print(b , id(b))"
   ]
  },
  {
   "cell_type": "code",
   "execution_count": 10,
   "id": "d2759151-c83d-46b5-baae-5dea52d80ce5",
   "metadata": {},
   "outputs": [
    {
     "name": "stdout",
     "output_type": "stream",
     "text": [
      "[1, 2, 3, 4, 5]\n"
     ]
    }
   ],
   "source": [
    "# shallow copy - it changes in b without changing in a\n",
    "a = [1,2,3,4,5]\n",
    "b = a.copy()\n",
    "print(b)"
   ]
  },
  {
   "cell_type": "code",
   "execution_count": 12,
   "id": "f2c50c77-158a-4913-8604-539b70d14942",
   "metadata": {},
   "outputs": [
    {
     "name": "stdout",
     "output_type": "stream",
     "text": [
      "[100, 2, 3, 4, 5]\n"
     ]
    }
   ],
   "source": [
    "b[0] = 100\n",
    "print(b)"
   ]
  },
  {
   "cell_type": "code",
   "execution_count": 13,
   "id": "2ec3ae92-598c-4858-b248-159b89af6b48",
   "metadata": {},
   "outputs": [
    {
     "name": "stdout",
     "output_type": "stream",
     "text": [
      "[1, 2, 3, 4, 5]\n"
     ]
    }
   ],
   "source": [
    "print(a)"
   ]
  },
  {
   "cell_type": "code",
   "execution_count": 18,
   "id": "63492985-2604-4431-b5b2-f6a95381f5e9",
   "metadata": {},
   "outputs": [
    {
     "name": "stdout",
     "output_type": "stream",
     "text": [
      "[1, 2, [3, 100]]\n"
     ]
    }
   ],
   "source": [
    "# shallow copy does not work in nested list.\n",
    "a = [1,2,[3,4]]\n",
    "b = a.copy()\n",
    "b[-1][1] = 100\n",
    "print(b)"
   ]
  },
  {
   "cell_type": "code",
   "execution_count": 19,
   "id": "5eda673d-7282-4e22-8bd5-eeb69fff73a0",
   "metadata": {},
   "outputs": [
    {
     "name": "stdout",
     "output_type": "stream",
     "text": [
      "[1, 2, [3, 100]]\n"
     ]
    }
   ],
   "source": [
    "print(a)"
   ]
  },
  {
   "cell_type": "code",
   "execution_count": 21,
   "id": "285d2c43-8002-46fc-b4d2-dcdd5aede344",
   "metadata": {},
   "outputs": [
    {
     "name": "stdout",
     "output_type": "stream",
     "text": [
      "[1, 2, 30]\n"
     ]
    }
   ],
   "source": [
    "a = [1,2,[3,4]]\n",
    "b = a.copy()\n",
    "b[2] = 30\n",
    "print(b)"
   ]
  },
  {
   "cell_type": "code",
   "execution_count": 24,
   "id": "973bf980-113c-4291-96b7-80cf2c0d80c6",
   "metadata": {},
   "outputs": [
    {
     "name": "stdout",
     "output_type": "stream",
     "text": [
      "[1, 2, [3, 100]]\n",
      "[1, 2, [3, 4]]\n"
     ]
    }
   ],
   "source": [
    "# deep copy --> by using deep copy we can handle nested list\n",
    "from copy import deepcopy\n",
    "a = [1,2,[3,4]]\n",
    "b = deepcopy(a)\n",
    "b[-1][1] = 100\n",
    "print(b)\n",
    "print(a)"
   ]
  },
  {
   "cell_type": "markdown",
   "id": "af05fddb-8095-4f8e-aef0-89d73971bf4c",
   "metadata": {},
   "source": [
    "# list comprehension"
   ]
  },
  {
   "cell_type": "code",
   "execution_count": null,
   "id": "a4d61a64-79d6-4c17-b087-0120702c448d",
   "metadata": {},
   "outputs": [],
   "source": [
    "for loop \n",
    "# syntax var in iterable;\n",
    "  #statement"
   ]
  },
  {
   "cell_type": "code",
   "execution_count": 25,
   "id": "f199a3b5-08ad-4280-becb-25c410454139",
   "metadata": {},
   "outputs": [
    {
     "name": "stdin",
     "output_type": "stream",
     "text": [
      "enter brand name asus\n"
     ]
    },
    {
     "name": "stdout",
     "output_type": "stream",
     "text": [
      "asus\n"
     ]
    },
    {
     "name": "stdin",
     "output_type": "stream",
     "text": [
      "enter brand name lenovo\n"
     ]
    },
    {
     "name": "stdout",
     "output_type": "stream",
     "text": [
      "lenovo\n"
     ]
    },
    {
     "name": "stdin",
     "output_type": "stream",
     "text": [
      "enter brand name hp\n"
     ]
    },
    {
     "name": "stdout",
     "output_type": "stream",
     "text": [
      "hp\n"
     ]
    },
    {
     "name": "stdin",
     "output_type": "stream",
     "text": [
      "enter brand name aer\n"
     ]
    },
    {
     "name": "stdout",
     "output_type": "stream",
     "text": [
      "aer\n"
     ]
    },
    {
     "name": "stdin",
     "output_type": "stream",
     "text": [
      "enter brand name retro\n"
     ]
    },
    {
     "name": "stdout",
     "output_type": "stream",
     "text": [
      "retro\n"
     ]
    }
   ],
   "source": [
    "for i in [1,2,3,4,5]:\n",
    "    a = input('enter brand name')\n",
    "    print(a)"
   ]
  },
  {
   "cell_type": "code",
   "execution_count": 29,
   "id": "c8144164-0a71-401c-9e21-fff9ff008557",
   "metadata": {},
   "outputs": [
    {
     "name": "stdout",
     "output_type": "stream",
     "text": [
      "learnbay\n",
      "learnbay\n",
      "learnbay\n"
     ]
    }
   ],
   "source": [
    "a = [1,2,3,['afsaan'],100]\n",
    "for i in  str(a[-1]):\n",
    "    print('learnbay')"
   ]
  },
  {
   "cell_type": "code",
   "execution_count": 36,
   "id": "1d5b0360-c8ab-461e-a490-a7174139a5a0",
   "metadata": {},
   "outputs": [
    {
     "name": "stdout",
     "output_type": "stream",
     "text": [
      "afsaan\n",
      "learnbay\n"
     ]
    }
   ],
   "source": [
    "a = [1,2,3,['afsaan'],100]\n",
    "print(a[-2][0])\n",
    "for i in 'a':\n",
    "    print('learnbay')"
   ]
  },
  {
   "cell_type": "code",
   "execution_count": 37,
   "id": "c19ce6bb-2476-4bad-9378-443e3c9857ae",
   "metadata": {},
   "outputs": [
    {
     "name": "stdout",
     "output_type": "stream",
     "text": [
      "afsaan\n",
      "a\n",
      "f\n",
      "s\n",
      "a\n",
      "a\n",
      "n\n"
     ]
    }
   ],
   "source": [
    "a = [1,2,3,['afsaan'],100]\n",
    "print(a[-2][0])\n",
    "for i in 'afsaan':\n",
    "    print(i)"
   ]
  },
  {
   "cell_type": "code",
   "execution_count": 47,
   "id": "836b0430-19d9-4d8f-9291-2d167591362f",
   "metadata": {},
   "outputs": [
    {
     "name": "stdout",
     "output_type": "stream",
     "text": [
      "[1, 4, 9, 16, 25]\n"
     ]
    }
   ],
   "source": [
    "a = [1,2,3,4,5]\n",
    "# print square of all the numbers\n",
    "b = []\n",
    "for i in a:\n",
    "    b.append(i**2)\n",
    "print(b)\n",
    "\n"
   ]
  },
  {
   "cell_type": "code",
   "execution_count": 48,
   "id": "0e374f69-fdd4-489f-9031-785c685fe864",
   "metadata": {},
   "outputs": [],
   "source": [
    "a = ['afsaan@gmail.com', 'disha@gmail.com' , 'ankita@yahoo.com']\n",
    "b = []\n",
    "for i in a:\n",
    "    b.append(i.split('@')[0])"
   ]
  },
  {
   "cell_type": "code",
   "execution_count": 49,
   "id": "e22129df-3ac7-4162-8ee2-f56678e5b4d0",
   "metadata": {},
   "outputs": [
    {
     "data": {
      "text/plain": [
       "['afsaan', 'disha', 'ankita']"
      ]
     },
     "execution_count": 49,
     "metadata": {},
     "output_type": "execute_result"
    }
   ],
   "source": [
    "b"
   ]
  },
  {
   "cell_type": "code",
   "execution_count": 50,
   "id": "e67ad2e0-bdf7-4684-a707-264f561c94e3",
   "metadata": {},
   "outputs": [
    {
     "name": "stdout",
     "output_type": "stream",
     "text": [
      "['afsaan', 'disha', 'ankita']\n"
     ]
    }
   ],
   "source": [
    "# list comprehension --> it is used when creating a list when you have only one statement.\n",
    "# syntax = [statement for i in iterable]\n",
    "a = ['afsaan@gmail.com', 'disha@gmail.com' , 'ankita@yahoo.com']\n",
    "b = [i.split('@')[0]for i in a]\n",
    "print(b)"
   ]
  },
  {
   "cell_type": "code",
   "execution_count": 52,
   "id": "aca6ae37-e3ee-4b23-b7f5-856137f926df",
   "metadata": {},
   "outputs": [
    {
     "name": "stdout",
     "output_type": "stream",
     "text": [
      "[1, 4, 9, 16, 25]\n"
     ]
    }
   ],
   "source": [
    "a = [1,2,3,4,5]\n",
    "b = [i**2 for i in a]\n",
    "print(b)"
   ]
  },
  {
   "cell_type": "code",
   "execution_count": 56,
   "id": "f05a4ad5-97a8-43c8-9304-7fb3f14ce4b8",
   "metadata": {},
   "outputs": [
    {
     "name": "stdout",
     "output_type": "stream",
     "text": [
      "[6, 8, 10]\n"
     ]
    }
   ],
   "source": [
    "a = [1,6,7,8,10] # find even number \n",
    "b = []\n",
    "for i in a:\n",
    "    if i%2==0:\n",
    "        b.append(i)\n",
    "print(b)"
   ]
  }
 ],
 "metadata": {
  "kernelspec": {
   "display_name": "Python 3 (ipykernel)",
   "language": "python",
   "name": "python3"
  },
  "language_info": {
   "codemirror_mode": {
    "name": "ipython",
    "version": 3
   },
   "file_extension": ".py",
   "mimetype": "text/x-python",
   "name": "python",
   "nbconvert_exporter": "python",
   "pygments_lexer": "ipython3",
   "version": "3.12.8"
  }
 },
 "nbformat": 4,
 "nbformat_minor": 5
}
