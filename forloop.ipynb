{
 "cells": [
  {
   "cell_type": "code",
   "execution_count": 5,
   "id": "3f475bc6-c76f-4081-b1c7-200fecbe6d05",
   "metadata": {},
   "outputs": [
    {
     "name": "stdout",
     "output_type": "stream",
     "text": [
      "2\n",
      "4\n",
      "6\n",
      "8\n",
      "10\n",
      "12\n",
      "14\n",
      "16\n",
      "18\n",
      "20\n",
      "22\n",
      "24\n",
      "26\n",
      "28\n",
      "30\n",
      "32\n",
      "34\n",
      "36\n",
      "38\n",
      "40\n",
      "42\n",
      "44\n",
      "46\n",
      "48\n",
      "50\n"
     ]
    }
   ],
   "source": [
    "# give all even numbers from 1 to 50\n",
    "\n",
    "for i in range(2,51,2):\n",
    "        print(i)"
   ]
  },
  {
   "cell_type": "code",
   "execution_count": 9,
   "id": "f36017fc-1aed-4550-b8b3-3c7238bc9281",
   "metadata": {},
   "outputs": [
    {
     "name": "stdout",
     "output_type": "stream",
     "text": [
      "m\n",
      "e\n",
      "s\n",
      "s\n",
      "i\n"
     ]
    }
   ],
   "source": [
    "a = ['messi','Ronaldo','taylor']\n",
    "for i in a[0]:\n",
    "     print(i)"
   ]
  },
  {
   "cell_type": "code",
   "execution_count": null,
   "id": "7660928a-41e5-4ed5-abe9-ac9d8e28ffdc",
   "metadata": {},
   "outputs": [],
   "source": [
    "# while loop --> if we do not know the iteration.\n",
    "# if we want to start/stop the loop on some condition.\n",
    "# 1.) initialization\n",
    "#  2.) condition checking\n",
    "#3.) increment"
   ]
  },
  {
   "cell_type": "code",
   "execution_count": 10,
   "id": "99a18547-e48b-4e1f-b50a-cf8f63d0aacd",
   "metadata": {},
   "outputs": [
    {
     "name": "stdout",
     "output_type": "stream",
     "text": [
      "afsan\n",
      "afsan\n",
      "afsan\n",
      "afsan\n",
      "afsan\n",
      "afsan\n",
      "afsan\n",
      "afsan\n",
      "afsan\n",
      "afsan\n"
     ]
    }
   ],
   "source": [
    "i=0\n",
    "while(i<10):\n",
    "    print('afsan')\n",
    "    i+=1"
   ]
  },
  {
   "cell_type": "code",
   "execution_count": 13,
   "id": "397137e9-eac6-4b11-b9e7-aabc78128601",
   "metadata": {},
   "outputs": [
    {
     "name": "stdout",
     "output_type": "stream",
     "text": [
      "messi\n"
     ]
    },
    {
     "ename": "TypeError",
     "evalue": "can only concatenate str (not \"int\") to str",
     "output_type": "error",
     "traceback": [
      "\u001b[31m---------------------------------------------------------------------------\u001b[39m",
      "\u001b[31mTypeError\u001b[39m                                 Traceback (most recent call last)",
      "\u001b[36mCell\u001b[39m\u001b[36m \u001b[39m\u001b[32mIn[13]\u001b[39m\u001b[32m, line 6\u001b[39m\n\u001b[32m      4\u001b[39m \u001b[38;5;28;01mfor\u001b[39;00m j \u001b[38;5;129;01min\u001b[39;00m a:\n\u001b[32m      5\u001b[39m     \u001b[38;5;28mprint\u001b[39m(j)\n\u001b[32m----> \u001b[39m\u001b[32m6\u001b[39m     \u001b[43mj\u001b[49m\u001b[43m+\u001b[49m\u001b[43m=\u001b[49m\u001b[32;43m1\u001b[39;49m\n",
      "\u001b[31mTypeError\u001b[39m: can only concatenate str (not \"int\") to str"
     ]
    }
   ],
   "source": [
    "# print pattern \n",
    "data = 'python'\n",
    "for i in a:\n",
    "    for j in a:\n",
    "        print(j)\n",
    "        j+=1"
   ]
  },
  {
   "cell_type": "code",
   "execution_count": 34,
   "id": "44379a6e-3e59-4d7c-8d03-86e857df0209",
   "metadata": {},
   "outputs": [
    {
     "name": "stdout",
     "output_type": "stream",
     "text": [
      "*\n",
      "**\n",
      "***\n",
      "****\n",
      "*****\n",
      "******\n",
      "*******\n"
     ]
    }
   ],
   "source": [
    "data = 7\n",
    "#data = eval(input(\"enter string\"))\n",
    "for i in range(data):\n",
    "        print('*'*(i+1))\n",
    "        "
   ]
  },
  {
   "cell_type": "code",
   "execution_count": 35,
   "id": "2e8a802b-67cc-4cf6-a5df-928f0b27e2a0",
   "metadata": {},
   "outputs": [
    {
     "name": "stdout",
     "output_type": "stream",
     "text": [
      "p\n",
      "yy\n",
      "ttt\n",
      "hhhh\n",
      "ooooo\n",
      "nnnnnn\n"
     ]
    }
   ],
   "source": [
    "#using while loop\n",
    "data = 'python'\n",
    "i=0\n",
    "while i<6:\n",
    "    print(data[i]*(i+1))\n",
    "    i+=1"
   ]
  },
  {
   "cell_type": "code",
   "execution_count": null,
   "id": "ac630ea1-c6a2-4fd7-8c03-90060a98310f",
   "metadata": {},
   "outputs": [],
   "source": [
    "break keyword--> this keyword is used to break out of the loop"
   ]
  },
  {
   "cell_type": "code",
   "execution_count": 37,
   "id": "d0a5c269-8e81-4937-b01a-5f90203e62b4",
   "metadata": {},
   "outputs": [
    {
     "name": "stdout",
     "output_type": "stream",
     "text": [
      "0\n",
      "1\n",
      "2\n",
      "3\n"
     ]
    }
   ],
   "source": [
    "for i in range(9):\n",
    "    if i>3:\n",
    "        break\n",
    "    print(i)"
   ]
  },
  {
   "cell_type": "code",
   "execution_count": 4,
   "id": "37c3be7a-9443-4b15-8017-789a02e86ebf",
   "metadata": {},
   "outputs": [
    {
     "name": "stdout",
     "output_type": "stream",
     "text": [
      "1\n",
      "2\n",
      "3\n"
     ]
    }
   ],
   "source": [
    "i=0\n",
    "while i<9:\n",
    "    if i==3:\n",
    "        break\n",
    "    i+=1\n",
    "    print(i)"
   ]
  },
  {
   "cell_type": "code",
   "execution_count": 6,
   "id": "f0ede502-3a1c-4897-89d5-bcca821ecf95",
   "metadata": {},
   "outputs": [
    {
     "name": "stdout",
     "output_type": "stream",
     "text": [
      "0\n",
      "1\n",
      "2\n",
      "3\n"
     ]
    }
   ],
   "source": [
    "for i in range(9):\n",
    "    if i>3:\n",
    "        break\n",
    "    print(i)\n"
   ]
  },
  {
   "cell_type": "code",
   "execution_count": 9,
   "id": "0c1e3714-818b-4393-9ae7-6ab65dffd60c",
   "metadata": {},
   "outputs": [
    {
     "name": "stdout",
     "output_type": "stream",
     "text": [
      "0\n",
      "1\n",
      "0\n",
      "1\n",
      "0\n",
      "1\n"
     ]
    }
   ],
   "source": [
    "# nested loops\n",
    "for i in range(3):\n",
    "    for j in range(2):\n",
    "        print(j)"
   ]
  },
  {
   "cell_type": "code",
   "execution_count": 10,
   "id": "af9ec153-6d76-4193-8780-51cb449e78f3",
   "metadata": {},
   "outputs": [
    {
     "name": "stdout",
     "output_type": "stream",
     "text": [
      "0 0\n",
      "1 2\n",
      "2 2\n"
     ]
    }
   ],
   "source": [
    "for i in range(3):\n",
    "    for j in range(3):\n",
    "        if i==0:\n",
    "            break\n",
    "    print(i,j)"
   ]
  },
  {
   "cell_type": "code",
   "execution_count": 28,
   "id": "7d089dd8-aa4b-40e4-b2c2-53e1b4092fb4",
   "metadata": {},
   "outputs": [
    {
     "name": "stdout",
     "output_type": "stream",
     "text": [
      "shreya\n",
      "khushi\n",
      "kritika\n"
     ]
    }
   ],
   "source": [
    "names = ['awantika', 'shreya' , 'khushi', 'kritika','aarohi']\n",
    "for i in names:\n",
    "    if i[0] != 'a':\n",
    "        print(i)\n",
    "    "
   ]
  },
  {
   "cell_type": "code",
   "execution_count": 59,
   "id": "5046a909-017e-4e1e-a4a5-57fbcaf816f0",
   "metadata": {},
   "outputs": [
    {
     "name": "stdout",
     "output_type": "stream",
     "text": [
      "nnnnnn\n",
      "ooooo\n",
      "hhhh\n",
      "ttt\n",
      "yy\n",
      "p\n"
     ]
    }
   ],
   "source": [
    "a = 'python'\n",
    "for i in range(len(a)-1,-1,-1):\n",
    "    print(a[i]*(i+1))"
   ]
  },
  {
   "cell_type": "code",
   "execution_count": null,
   "id": "3d2dc2f7-e118-4a2c-8073-717b5a00f61d",
   "metadata": {},
   "outputs": [],
   "source": []
  }
 ],
 "metadata": {
  "kernelspec": {
   "display_name": "Python 3 (ipykernel)",
   "language": "python",
   "name": "python3"
  },
  "language_info": {
   "codemirror_mode": {
    "name": "ipython",
    "version": 3
   },
   "file_extension": ".py",
   "mimetype": "text/x-python",
   "name": "python",
   "nbconvert_exporter": "python",
   "pygments_lexer": "ipython3",
   "version": "3.12.8"
  }
 },
 "nbformat": 4,
 "nbformat_minor": 5
}
